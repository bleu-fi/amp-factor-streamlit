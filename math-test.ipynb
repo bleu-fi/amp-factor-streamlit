{
 "cells": [
  {
   "cell_type": "markdown",
   "id": "52ddcb41",
   "metadata": {},
   "source": [
    "# In given price Test"
   ]
  },
  {
   "cell_type": "code",
   "execution_count": 84,
   "id": "08c9602b",
   "metadata": {},
   "outputs": [],
   "source": [
    "import numpy as np\n",
    "import pandas as pd\n",
    "import plotly.express as px\n",
    "from balancerv2cad.StableMath import StableMath\n",
    "import decimal"
   ]
  },
  {
   "cell_type": "markdown",
   "id": "0f8a9a21",
   "metadata": {},
   "source": [
    "## 0. Set parameters of simulation\n",
    "### 0.1 Contant parameters"
   ]
  },
  {
   "cell_type": "code",
   "execution_count": 2,
   "id": "b0465d45",
   "metadata": {},
   "outputs": [],
   "source": [
    "# random values\n",
    "A = 5\n",
    "balances_start = [3000, 3000, 3000, 3000, 3000]\n",
    "n = len(balances_start)"
   ]
  },
  {
   "cell_type": "markdown",
   "id": "c028ceed",
   "metadata": {},
   "source": [
    "### 0.2 Calculate Invariant"
   ]
  },
  {
   "cell_type": "code",
   "execution_count": 3,
   "id": "844e532f",
   "metadata": {
    "scrolled": true
   },
   "outputs": [
    {
     "data": {
      "text/plain": [
       "Decimal('15000')"
      ]
     },
     "execution_count": 3,
     "metadata": {},
     "output_type": "execute_result"
    }
   ],
   "source": [
    "D = StableMath.calculateInvariant(A, balances_start)\n",
    "D"
   ]
  },
  {
   "cell_type": "markdown",
   "id": "1930cdd0",
   "metadata": {},
   "source": [
    "## 1. Test In given out function\n",
    "\n",
    "### 1.1 Define parameters"
   ]
  },
  {
   "cell_type": "code",
   "execution_count": 4,
   "id": "2d0155b3",
   "metadata": {},
   "outputs": [
    {
     "name": "stdout",
     "output_type": "stream",
     "text": [
      "S: 9000\n",
      "P: 27000000000\n"
     ]
    }
   ],
   "source": [
    "index_x = 0\n",
    "index_y = 1\n",
    "constant_balances = [balances_start[i] for i in range(len(balances_start)) if i not in [index_x, index_y]]\n",
    "S = np.sum(constant_balances)\n",
    "P = np.prod(constant_balances)\n",
    "print(\"S:\", S)\n",
    "print(\"P:\", P)"
   ]
  },
  {
   "cell_type": "markdown",
   "id": "6d029ec6",
   "metadata": {},
   "source": [
    "### 1.2 Aux funcs"
   ]
  },
  {
   "cell_type": "code",
   "execution_count": 5,
   "id": "a6fb19e0",
   "metadata": {},
   "outputs": [],
   "source": [
    "c1 =  (D/(A*(n**n))) + S - D\n",
    "c2 =  -(D**(n+1)) / (A*(n**(2*n))*P)\n",
    "\n",
    "def b_func(x):\n",
    "    return c1+x\n",
    "\n",
    "def c_func(x):\n",
    "    return c2/x\n",
    "\n",
    "def c_derivate_func(x):\n",
    "    return -c2/(x**2)\n",
    "\n",
    "def calculate_y(x):\n",
    "    b = float(b_func(x))\n",
    "    c = float(c_func(x))\n",
    "    delta = (b**2) - 4*c\n",
    "    num = -b + ((delta)**(1/2))\n",
    "    den = 2\n",
    "    return num/den\n",
    "\n",
    "def calcOutGivenIn(amount):\n",
    "    new_y = calculate_y(balances_start[index_x]+amount)\n",
    "    return balances_start[index_y] - new_y"
   ]
  },
  {
   "cell_type": "markdown",
   "id": "be11c283",
   "metadata": {},
   "source": [
    "### 1.3 Singular test"
   ]
  },
  {
   "cell_type": "code",
   "execution_count": 6,
   "id": "3b8c3039",
   "metadata": {},
   "outputs": [
    {
     "name": "stdout",
     "output_type": "stream",
     "text": [
      "Context OUTGIVENIN\n",
      "Invariant 15000\n",
      "FinalBalance Out 2900.552908046759877175131169\n",
      "99.447091953240122824868831\n",
      "END-CONTEXT OUTGIVENIN\n"
     ]
    }
   ],
   "source": [
    "amount = 100\n",
    "calculated = calcOutGivenIn(amount)\n",
    "answer = StableMath.calcOutGivenIn(A, balances_start, index_x, index_y, amount)"
   ]
  },
  {
   "cell_type": "code",
   "execution_count": 7,
   "id": "6b7318ca",
   "metadata": {},
   "outputs": [
    {
     "name": "stdout",
     "output_type": "stream",
     "text": [
      "Difference: 0.5518405473616497\n",
      "Difference over result of BalancerV2Cad: 0.5549086821172451%\n"
     ]
    }
   ],
   "source": [
    "dif = calculated-float(answer)\n",
    "dif_over_answer = dif*100/float(answer)\n",
    "print(\"Difference:\", dif)\n",
    "print(f\"Difference over result of BalancerV2Cad: {dif_over_answer}%\")"
   ]
  },
  {
   "cell_type": "markdown",
   "id": "bb1e2fb9",
   "metadata": {},
   "source": [
    "### 1.4 Testing with different amount values"
   ]
  },
  {
   "cell_type": "code",
   "execution_count": 8,
   "id": "bbefb907",
   "metadata": {
    "scrolled": true
   },
   "outputs": [
    {
     "name": "stdout",
     "output_type": "stream",
     "text": [
      "Calculating...\n",
      "Context OUTGIVENIN\n",
      "Invariant 15000\n",
      "FinalBalance Out 2999.000055552473593240704119\n",
      "0.999944447526406759295881\n",
      "END-CONTEXT OUTGIVENIN\n",
      "Context OUTGIVENIN\n",
      "Invariant 15000\n",
      "FinalBalance Out 2999.000055552473593240704119\n",
      "0.999944447526406759295881\n",
      "END-CONTEXT OUTGIVENIN\n",
      "Context OUTGIVENIN\n",
      "Invariant 15000\n",
      "FinalBalance Out 2950.138530728993140625124319\n",
      "49.861469271006859374875681\n",
      "END-CONTEXT OUTGIVENIN\n",
      "Context OUTGIVENIN\n",
      "Invariant 15000\n",
      "FinalBalance Out 2950.138530728993140625124319\n",
      "49.861469271006859374875681\n",
      "END-CONTEXT OUTGIVENIN\n",
      "Context OUTGIVENIN\n",
      "Invariant 15000\n",
      "FinalBalance Out 2900.552908046759877175131169\n",
      "99.447091953240122824868831\n",
      "END-CONTEXT OUTGIVENIN\n",
      "Context OUTGIVENIN\n",
      "Invariant 15000\n",
      "FinalBalance Out 2900.552908046759877175131169\n",
      "99.447091953240122824868831\n",
      "END-CONTEXT OUTGIVENIN\n",
      "Context OUTGIVENIN\n",
      "Invariant 15000\n",
      "FinalBalance Out 2802.204453054920192068427095\n",
      "197.795546945079807931572905\n",
      "END-CONTEXT OUTGIVENIN\n",
      "Context OUTGIVENIN\n",
      "Invariant 15000\n",
      "FinalBalance Out 2802.204453054920192068427095\n",
      "197.795546945079807931572905\n",
      "END-CONTEXT OUTGIVENIN\n",
      "Context OUTGIVENIN\n",
      "Invariant 15000\n",
      "FinalBalance Out 2513.763774633861652796247902\n",
      "486.236225366138347203752098\n",
      "END-CONTEXT OUTGIVENIN\n",
      "Context OUTGIVENIN\n",
      "Invariant 15000\n",
      "FinalBalance Out 2513.763774633861652796247902\n",
      "486.236225366138347203752098\n",
      "END-CONTEXT OUTGIVENIN\n",
      "Context OUTGIVENIN\n",
      "Invariant 15000\n",
      "FinalBalance Out 2056.465996625053627812911266\n",
      "943.534003374946372187088734\n",
      "END-CONTEXT OUTGIVENIN\n",
      "Context OUTGIVENIN\n",
      "Invariant 15000\n",
      "FinalBalance Out 2056.465996625053627812911266\n",
      "943.534003374946372187088734\n",
      "END-CONTEXT OUTGIVENIN\n"
     ]
    }
   ],
   "source": [
    "print(\"Calculating...\")\n",
    "results = []\n",
    "amounts = [1, 50, 100, 200, 500, 1000]\n",
    "for amount in amounts:\n",
    "    calculated = calcOutGivenIn(amount)\n",
    "    answer = StableMath.calcOutGivenIn(A, balances_start, index_x, index_y, amount)\n",
    "    calculated = calcOutGivenIn(amount)\n",
    "    answer = StableMath.calcOutGivenIn(A, balances_start, index_x, index_y, amount)\n",
    "    dif = calculated-float(answer)\n",
    "    results.append(dif*100/float(answer))"
   ]
  },
  {
   "cell_type": "code",
   "execution_count": 9,
   "id": "fdf13f03",
   "metadata": {},
   "outputs": [
    {
     "name": "stdout",
     "output_type": "stream",
     "text": [
      "Out Given In simulation\n",
      "Difference of the our function result from the BalancerV2Cad result over the result of BalancerV2Cad package\n",
      "----------------------------------------------\n",
      "Input of 1 token, or 0.03% of the amount of tokens in the pool, got error of 0.01%\n",
      "Input of 50 token, or 1.67% of the amount of tokens in the pool, got error of 0.28%\n",
      "Input of 100 token, or 3.33% of the amount of tokens in the pool, got error of 0.55%\n",
      "Input of 200 token, or 6.67% of the amount of tokens in the pool, got error of 1.11%\n",
      "Input of 500 token, or 16.67% of the amount of tokens in the pool, got error of 2.83%\n",
      "Input of 1000 token, or 33.33% of the amount of tokens in the pool, got error of 5.97%\n"
     ]
    }
   ],
   "source": [
    "print(\"Out Given In simulation\")\n",
    "print(\"Difference of the our function result from the BalancerV2Cad result over the result of BalancerV2Cad package\")\n",
    "print(\"----------------------------------------------\")\n",
    "for r, amount in zip(results, amounts):\n",
    "    amount_over_balance = amount * 100 / balances_start[index_x]\n",
    "    print(f\"Input of {amount} token, or {amount_over_balance:.2f}% of the amount of tokens in the pool, got error of {r:.2f}%\")"
   ]
  },
  {
   "cell_type": "markdown",
   "id": "327f6570",
   "metadata": {},
   "source": [
    "## 2. Spot price given in test\n",
    "\n",
    "### 2.1 Define aux functions"
   ]
  },
  {
   "cell_type": "code",
   "execution_count": 68,
   "id": "5963fa5b",
   "metadata": {},
   "outputs": [],
   "source": [
    "def calculate_spotprice(x):\n",
    "    b = float(b_func(x))\n",
    "    c = float(c_func(x))\n",
    "    dc = float(c_derivate_func(x))\n",
    "    num = b-(2*dc)\n",
    "    in_root = (b**2) - 4*c\n",
    "    den = 2*(in_root**(1/2))\n",
    "    return (num/den) - 1/2\n",
    "\n",
    "def calcSpotPriceGivenIn(amount):\n",
    "    new_spot_price = calculate_price(balances_start[index_x]+amount)\n",
    "    return -new_spot_price\n",
    "\n",
    "def simulateSpotPrice(amount, small_trade):\n",
    "    new_balances = balances_start[:]\n",
    "    print('-------previous-trade--------')\n",
    "    out = float(StableMath.calcOutGivenIn(A, balances_start, index_x, index_y, amount))\n",
    "    new_balances[index_x]+=amount\n",
    "    new_balances[index_y]-=out\n",
    "    print(new_balances)\n",
    "    print('-------small-trade--------')\n",
    "    return StableMath.calcOutGivenIn(A, new_balances, index_x, index_y, small_trade)/small_trade"
   ]
  },
  {
   "cell_type": "markdown",
   "id": "03f5b4b6",
   "metadata": {},
   "source": [
    "### 2.2 Singular test"
   ]
  },
  {
   "cell_type": "code",
   "execution_count": 75,
   "id": "5a6d2558",
   "metadata": {},
   "outputs": [
    {
     "name": "stdout",
     "output_type": "stream",
     "text": [
      "-------previous-trade--------\n",
      "Context OUTGIVENIN\n",
      "Invariant 15000\n",
      "FinalBalance Out 2950.138530728993140625124319\n",
      "49.861469271006859374875681\n",
      "END-CONTEXT OUTGIVENIN\n",
      "[3050, Decimal('2950.138530728993140625124319'), 3000, 3000, 3000]\n",
      "-------small-trade--------\n",
      "Context OUTGIVENIN\n",
      "Invariant 15001\n",
      "FinalBalance Out 2950.141284906568104161241438\n",
      "-0.002754177574963536117119\n",
      "END-CONTEXT OUTGIVENIN\n"
     ]
    }
   ],
   "source": [
    "amount = 50\n",
    "calculated = calcSpotPriceGivenIn(amount)\n",
    "answer = simulateSpotPrice(amount, 1)"
   ]
  },
  {
   "cell_type": "code",
   "execution_count": 76,
   "id": "a15061fd",
   "metadata": {},
   "outputs": [
    {
     "name": "stdout",
     "output_type": "stream",
     "text": [
      "0.9999893309082654\n",
      "-0.002754177574963536117119\n"
     ]
    }
   ],
   "source": [
    "print(calculated)\n",
    "print(answer)"
   ]
  },
  {
   "cell_type": "markdown",
   "id": "2df9227a",
   "metadata": {},
   "source": [
    "### 2.3 Iterate over diferent sizes of \"small-trade\""
   ]
  },
  {
   "cell_type": "code",
   "execution_count": 94,
   "id": "f1388866",
   "metadata": {},
   "outputs": [
    {
     "name": "stdout",
     "output_type": "stream",
     "text": [
      "Calculating...\n",
      "-------previous-trade--------\n",
      "Context OUTGIVENIN\n",
      "Invariant 15000\n",
      "FinalBalance Out 2999.000055552473593240704119\n",
      "0.999944447526406759295881\n",
      "END-CONTEXT OUTGIVENIN\n",
      "[3001, Decimal('2999.000055552473593240704119'), 3000, 3000, 3000]\n",
      "-------small-trade--------\n",
      "Context OUTGIVENIN\n",
      "Invariant 15001\n",
      "FinalBalance Out 2999.900028326789425686857274\n",
      "-0.899972774315832446153155\n",
      "END-CONTEXT OUTGIVENIN\n",
      "-------previous-trade--------\n",
      "Context OUTGIVENIN\n",
      "Invariant 15000\n",
      "FinalBalance Out 2990.005552513645367121314825\n",
      "9.994447486354632878685175\n",
      "END-CONTEXT OUTGIVENIN\n",
      "[3010, Decimal('2990.005552513645367121314825'), 3000, 3000, 3000]\n",
      "-------small-trade--------\n",
      "Context OUTGIVENIN\n",
      "Invariant 15001\n",
      "FinalBalance Out 2990.905124357099122911887305\n",
      "-0.899571843453755790572480\n",
      "END-CONTEXT OUTGIVENIN\n",
      "-------previous-trade--------\n",
      "Context OUTGIVENIN\n",
      "Invariant 15000\n",
      "FinalBalance Out 2950.138530728993140625124319\n",
      "49.861469271006859374875681\n",
      "END-CONTEXT OUTGIVENIN\n",
      "[3050, Decimal('2950.138530728993140625124319'), 3000, 3000, 3000]\n",
      "-------small-trade--------\n",
      "Context OUTGIVENIN\n",
      "Invariant 15001\n",
      "FinalBalance Out 2951.036300031683094152259199\n",
      "-0.897769302689953527134880\n",
      "END-CONTEXT OUTGIVENIN\n",
      "-------previous-trade--------\n",
      "Context OUTGIVENIN\n",
      "Invariant 15000\n",
      "FinalBalance Out 2900.552908046759877175131169\n",
      "99.447091953240122824868831\n",
      "END-CONTEXT OUTGIVENIN\n",
      "[3100, Decimal('2900.552908046759877175131169'), 3000, 3000, 3000]\n",
      "-------small-trade--------\n",
      "Context OUTGIVENIN\n",
      "Invariant 15001\n",
      "FinalBalance Out 2901.448374252426619528984876\n",
      "-0.895466205666742353853707\n",
      "END-CONTEXT OUTGIVENIN\n",
      "-------previous-trade--------\n",
      "Context OUTGIVENIN\n",
      "Invariant 15000\n",
      "FinalBalance Out 2513.763774633861652796247902\n",
      "486.236225366138347203752098\n",
      "END-CONTEXT OUTGIVENIN\n",
      "[3500, Decimal('2513.763774633861652796247902'), 3000, 3000, 3000]\n",
      "-------small-trade--------\n",
      "Context OUTGIVENIN\n",
      "Invariant 15001\n",
      "FinalBalance Out 2514.638258344223747455613552\n",
      "-0.874483710362094659365650\n",
      "END-CONTEXT OUTGIVENIN\n",
      "-------previous-trade--------\n",
      "Context OUTGIVENIN\n",
      "Invariant 15000\n",
      "FinalBalance Out 2056.465996625053627812911266\n",
      "943.534003374946372187088734\n",
      "END-CONTEXT OUTGIVENIN\n",
      "[4000, Decimal('2056.465996625053627812911266'), 3000, 3000, 3000]\n",
      "-------small-trade--------\n",
      "Context OUTGIVENIN\n",
      "Invariant 15001\n",
      "FinalBalance Out 2057.304538138960235453138646\n",
      "-0.838541513906607640227380\n",
      "END-CONTEXT OUTGIVENIN\n",
      "-------previous-trade--------\n",
      "Context OUTGIVENIN\n",
      "Invariant 15000\n",
      "FinalBalance Out 2999.000055552473593240704119\n",
      "0.999944447526406759295881\n",
      "END-CONTEXT OUTGIVENIN\n",
      "[3001, Decimal('2999.000055552473593240704119'), 3000, 3000, 3000]\n",
      "-------small-trade--------\n",
      "Context OUTGIVENIN\n",
      "Invariant 15001\n",
      "FinalBalance Out 2999.000133290406446966863990\n",
      "-0.000077737932853726159871\n",
      "END-CONTEXT OUTGIVENIN\n",
      "-------previous-trade--------\n",
      "Context OUTGIVENIN\n",
      "Invariant 15000\n",
      "FinalBalance Out 2990.005552513645367121314825\n",
      "9.994447486354632878685175\n",
      "END-CONTEXT OUTGIVENIN\n",
      "[3010, Decimal('2990.005552513645367121314825'), 3000, 3000, 3000]\n",
      "-------small-trade--------\n",
      "Context OUTGIVENIN\n",
      "Invariant 15001\n",
      "FinalBalance Out 2990.006128279949470654456350\n",
      "-0.000575766304103533141525\n",
      "END-CONTEXT OUTGIVENIN\n",
      "-------previous-trade--------\n",
      "Context OUTGIVENIN\n",
      "Invariant 15000\n",
      "FinalBalance Out 2950.138530728993140625124319\n",
      "49.861469271006859374875681\n",
      "END-CONTEXT OUTGIVENIN\n",
      "[3050, Decimal('2950.138530728993140625124319'), 3000, 3000, 3000]\n",
      "-------small-trade--------\n",
      "Context OUTGIVENIN\n",
      "Invariant 15001\n",
      "FinalBalance Out 2950.141284906568104161241438\n",
      "-0.002754177574963536117119\n",
      "END-CONTEXT OUTGIVENIN\n",
      "-------previous-trade--------\n",
      "Context OUTGIVENIN\n",
      "Invariant 15000\n",
      "FinalBalance Out 2900.552908046759877175131169\n",
      "99.447091953240122824868831\n",
      "END-CONTEXT OUTGIVENIN\n",
      "[3100, Decimal('2900.552908046759877175131169'), 3000, 3000, 3000]\n",
      "-------small-trade--------\n",
      "Context OUTGIVENIN\n",
      "Invariant 15001\n",
      "FinalBalance Out 2900.558309132487835163139535\n",
      "-0.005401085727957988008366\n",
      "END-CONTEXT OUTGIVENIN\n",
      "-------previous-trade--------\n",
      "Context OUTGIVENIN\n",
      "Invariant 15000\n",
      "FinalBalance Out 2513.763774633861652796247902\n",
      "486.236225366138347203752098\n",
      "END-CONTEXT OUTGIVENIN\n",
      "[3500, Decimal('2513.763774633861652796247902'), 3000, 3000, 3000]\n",
      "-------small-trade--------\n",
      "Context OUTGIVENIN\n",
      "Invariant 15001\n",
      "FinalBalance Out 2513.788019630299902625670155\n",
      "-0.024244996438249829422253\n",
      "END-CONTEXT OUTGIVENIN\n",
      "-------previous-trade--------\n",
      "Context OUTGIVENIN\n",
      "Invariant 15000\n",
      "FinalBalance Out 2056.465996625053627812911266\n",
      "943.534003374946372187088734\n",
      "END-CONTEXT OUTGIVENIN\n",
      "[4000, Decimal('2056.465996625053627812911266'), 3000, 3000, 3000]\n",
      "-------small-trade--------\n",
      "Context OUTGIVENIN\n",
      "Invariant 15001\n",
      "FinalBalance Out 2056.510331313368426125808367\n",
      "-0.044334688314798312897101\n",
      "END-CONTEXT OUTGIVENIN\n",
      "-------previous-trade--------\n",
      "Context OUTGIVENIN\n",
      "Invariant 15000\n",
      "FinalBalance Out 2999.000055552473593240704119\n",
      "0.999944447526406759295881\n",
      "END-CONTEXT OUTGIVENIN\n",
      "[3001, Decimal('2999.000055552473593240704119'), 3000, 3000, 3000]\n",
      "-------small-trade--------\n",
      "Context OUTGIVENIN\n",
      "Invariant 15001\n",
      "FinalBalance Out 2998.000355418986176366526814\n",
      "0.999700133487416874177305\n",
      "END-CONTEXT OUTGIVENIN\n",
      "-------previous-trade--------\n",
      "Context OUTGIVENIN\n",
      "Invariant 15000\n",
      "FinalBalance Out 2990.005552513645367121314825\n",
      "9.994447486354632878685175\n",
      "END-CONTEXT OUTGIVENIN\n",
      "[3010, Decimal('2990.005552513645367121314825'), 3000, 3000, 3000]\n",
      "-------small-trade--------\n",
      "Context OUTGIVENIN\n",
      "Invariant 15001\n",
      "FinalBalance Out 2989.007349099367942227105541\n",
      "0.998203414277424894209284\n",
      "END-CONTEXT OUTGIVENIN\n",
      "-------previous-trade--------\n",
      "Context OUTGIVENIN\n",
      "Invariant 15000\n",
      "FinalBalance Out 2950.138530728993140625124319\n",
      "49.861469271006859374875681\n",
      "END-CONTEXT OUTGIVENIN\n",
      "[3050, Decimal('2950.138530728993140625124319'), 3000, 3000, 3000]\n",
      "-------small-trade--------\n",
      "Context OUTGIVENIN\n",
      "Invariant 15001\n",
      "FinalBalance Out 2949.146928425052372564084551\n",
      "0.991602303940768061039768\n",
      "END-CONTEXT OUTGIVENIN\n",
      "-------previous-trade--------\n",
      "Context OUTGIVENIN\n",
      "Invariant 15000\n",
      "FinalBalance Out 2900.552908046759877175131169\n",
      "99.447091953240122824868831\n",
      "END-CONTEXT OUTGIVENIN\n",
      "[3100, Decimal('2900.552908046759877175131169'), 3000, 3000, 3000]\n",
      "-------small-trade--------\n",
      "Context OUTGIVENIN\n",
      "Invariant 15001\n",
      "FinalBalance Out 2899.569452149909564623910040\n",
      "0.983455896850312551221129\n",
      "END-CONTEXT OUTGIVENIN\n",
      "-------previous-trade--------\n",
      "Context OUTGIVENIN\n",
      "Invariant 15000\n",
      "FinalBalance Out 2513.763774633861652796247902\n",
      "486.236225366138347203752098\n",
      "END-CONTEXT OUTGIVENIN\n",
      "[3500, Decimal('2513.763774633861652796247902'), 3000, 3000, 3000]\n",
      "-------small-trade--------\n",
      "Context OUTGIVENIN\n",
      "Invariant 15001\n",
      "FinalBalance Out 2512.843418185124044782586740\n",
      "0.920356448737608013661162\n",
      "END-CONTEXT OUTGIVENIN\n",
      "-------previous-trade--------\n",
      "Context OUTGIVENIN\n",
      "Invariant 15000\n",
      "FinalBalance Out 2056.465996625053627812911266\n",
      "943.534003374946372187088734\n",
      "END-CONTEXT OUTGIVENIN\n",
      "[4000, Decimal('2056.465996625053627812911266'), 3000, 3000, 3000]\n",
      "-------small-trade--------\n",
      "Context OUTGIVENIN\n",
      "Invariant 15001\n",
      "FinalBalance Out 2055.628011033193145364941629\n",
      "0.837985591860482447969637\n",
      "END-CONTEXT OUTGIVENIN\n",
      "-------previous-trade--------\n",
      "Context OUTGIVENIN\n",
      "Invariant 15000\n",
      "FinalBalance Out 2999.000055552473593240704119\n",
      "0.999944447526406759295881\n",
      "END-CONTEXT OUTGIVENIN\n",
      "[3001, Decimal('2999.000055552473593240704119'), 3000, 3000, 3000]\n",
      "-------small-trade--------\n",
      "Context OUTGIVENIN\n",
      "Invariant 15001\n",
      "FinalBalance Out 2994.002354126050789384078888\n",
      "4.997701426422803856625231\n",
      "END-CONTEXT OUTGIVENIN\n",
      "-------previous-trade--------\n",
      "Context OUTGIVENIN\n",
      "Invariant 15000\n",
      "FinalBalance Out 2990.005552513645367121314825\n",
      "9.994447486354632878685175\n",
      "END-CONTEXT OUTGIVENIN\n",
      "[3010, Decimal('2990.005552513645367121314825'), 3000, 3000, 3000]\n",
      "-------small-trade--------\n",
      "Context OUTGIVENIN\n",
      "Invariant 15001\n",
      "FinalBalance Out 2985.013340980669593700158071\n",
      "4.992211532975773421156754\n",
      "END-CONTEXT OUTGIVENIN\n",
      "-------previous-trade--------\n",
      "Context OUTGIVENIN\n",
      "Invariant 15000\n",
      "FinalBalance Out 2950.138530728993140625124319\n",
      "49.861469271006859374875681\n",
      "END-CONTEXT OUTGIVENIN\n",
      "[3050, Decimal('2950.138530728993140625124319'), 3000, 3000, 3000]\n",
      "-------small-trade--------\n",
      "Context OUTGIVENIN\n",
      "Invariant 15001\n",
      "FinalBalance Out 2945.170605069176780789338537\n",
      "4.967925659816359835785782\n",
      "END-CONTEXT OUTGIVENIN\n",
      "-------previous-trade--------\n",
      "Context OUTGIVENIN\n",
      "Invariant 15000\n",
      "FinalBalance Out 2900.552908046759877175131169\n",
      "99.447091953240122824868831\n",
      "END-CONTEXT OUTGIVENIN\n",
      "[3100, Decimal('2900.552908046759877175131169'), 3000, 3000, 3000]\n",
      "-------small-trade--------\n",
      "Context OUTGIVENIN\n",
      "Invariant 15001\n",
      "FinalBalance Out 2895.615121554204521898413773\n",
      "4.937786492555355276717396\n",
      "END-CONTEXT OUTGIVENIN\n",
      "-------previous-trade--------\n",
      "Context OUTGIVENIN\n",
      "Invariant 15000\n",
      "FinalBalance Out 2513.763774633861652796247902\n",
      "486.236225366138347203752098\n",
      "END-CONTEXT OUTGIVENIN\n",
      "[3500, Decimal('2513.763774633861652796247902'), 3000, 3000, 3000]\n",
      "-------small-trade--------\n",
      "Context OUTGIVENIN\n",
      "Invariant 15001\n",
      "FinalBalance Out 2509.066152297731026984922886\n",
      "4.697622336130625811325016\n",
      "END-CONTEXT OUTGIVENIN\n",
      "-------previous-trade--------\n",
      "Context OUTGIVENIN\n",
      "Invariant 15000\n",
      "FinalBalance Out 2056.465996625053627812911266\n",
      "943.534003374946372187088734\n",
      "END-CONTEXT OUTGIVENIN\n",
      "[4000, Decimal('2056.465996625053627812911266'), 3000, 3000, 3000]\n",
      "-------small-trade--------\n",
      "Context OUTGIVENIN\n",
      "Invariant 15001\n",
      "FinalBalance Out 2052.100118127936627366881347\n",
      "4.365878497117000446029919\n",
      "END-CONTEXT OUTGIVENIN\n",
      "-------previous-trade--------\n",
      "Context OUTGIVENIN\n",
      "Invariant 15000\n",
      "FinalBalance Out 2999.000055552473593240704119\n",
      "0.999944447526406759295881\n",
      "END-CONTEXT OUTGIVENIN\n",
      "[3001, Decimal('2999.000055552473593240704119'), 3000, 3000, 3000]\n",
      "-------small-trade--------\n",
      "Context OUTGIVENIN\n",
      "Invariant 15001\n",
      "FinalBalance Out 2990.006128279949470654456350\n",
      "8.993927272524122586247769\n",
      "END-CONTEXT OUTGIVENIN\n",
      "-------previous-trade--------\n",
      "Context OUTGIVENIN\n",
      "Invariant 15000\n",
      "FinalBalance Out 2990.005552513645367121314825\n",
      "9.994447486354632878685175\n",
      "END-CONTEXT OUTGIVENIN\n",
      "[3010, Decimal('2990.005552513645367121314825'), 3000, 3000, 3000]\n",
      "-------small-trade--------\n",
      "Context OUTGIVENIN\n",
      "Invariant 15001\n",
      "FinalBalance Out 2981.021105812052988523415991\n",
      "8.984446701592378597898834\n",
      "END-CONTEXT OUTGIVENIN\n",
      "-------previous-trade--------\n",
      "Context OUTGIVENIN\n",
      "Invariant 15000\n",
      "FinalBalance Out 2950.138530728993140625124319\n",
      "49.861469271006859374875681\n",
      "END-CONTEXT OUTGIVENIN\n",
      "[3050, Decimal('2950.138530728993140625124319'), 3000, 3000, 3000]\n",
      "-------small-trade--------\n",
      "Context OUTGIVENIN\n",
      "Invariant 15001\n",
      "FinalBalance Out 2941.196045209790043060293761\n",
      "8.942485519203097564830558\n",
      "END-CONTEXT OUTGIVENIN\n",
      "-------previous-trade--------\n",
      "Context OUTGIVENIN\n",
      "Invariant 15000\n",
      "FinalBalance Out 2900.552908046759877175131169\n",
      "99.447091953240122824868831\n",
      "END-CONTEXT OUTGIVENIN\n",
      "[3100, Decimal('2900.552908046759877175131169'), 3000, 3000, 3000]\n",
      "-------small-trade--------\n",
      "Context OUTGIVENIN\n",
      "Invariant 15001\n",
      "FinalBalance Out 2891.662546320020152311770053\n",
      "8.890361726739724863361116\n",
      "END-CONTEXT OUTGIVENIN\n",
      "-------previous-trade--------\n",
      "Context OUTGIVENIN\n",
      "Invariant 15000\n",
      "FinalBalance Out 2513.763774633861652796247902\n",
      "486.236225366138347203752098\n",
      "END-CONTEXT OUTGIVENIN\n",
      "[3500, Decimal('2513.763774633861652796247902'), 3000, 3000, 3000]\n",
      "-------small-trade--------\n",
      "Context OUTGIVENIN\n",
      "Invariant 15001\n",
      "FinalBalance Out 2505.290711608989722671609906\n",
      "8.473063024871930124637996\n",
      "END-CONTEXT OUTGIVENIN\n",
      "-------previous-trade--------\n",
      "Context OUTGIVENIN\n",
      "Invariant 15000\n",
      "FinalBalance Out 2056.465996625053627812911266\n",
      "943.534003374946372187088734\n",
      "END-CONTEXT OUTGIVENIN\n",
      "[4000, Decimal('2056.465996625053627812911266'), 3000, 3000, 3000]\n",
      "-------small-trade--------\n",
      "Context OUTGIVENIN\n",
      "Invariant 15001\n",
      "FinalBalance Out 2048.574449773916541846633795\n",
      "7.891546851137085966277471\n",
      "END-CONTEXT OUTGIVENIN\n"
     ]
    },
    {
     "name": "stderr",
     "output_type": "stream",
     "text": [
      "/tmp/ipykernel_162/661080488.py:11: FutureWarning:\n",
      "\n",
      "The frame.append method is deprecated and will be removed from pandas in a future version. Use pandas.concat instead.\n",
      "\n",
      "/tmp/ipykernel_162/661080488.py:11: FutureWarning:\n",
      "\n",
      "The frame.append method is deprecated and will be removed from pandas in a future version. Use pandas.concat instead.\n",
      "\n",
      "/tmp/ipykernel_162/661080488.py:11: FutureWarning:\n",
      "\n",
      "The frame.append method is deprecated and will be removed from pandas in a future version. Use pandas.concat instead.\n",
      "\n",
      "/tmp/ipykernel_162/661080488.py:11: FutureWarning:\n",
      "\n",
      "The frame.append method is deprecated and will be removed from pandas in a future version. Use pandas.concat instead.\n",
      "\n",
      "/tmp/ipykernel_162/661080488.py:11: FutureWarning:\n",
      "\n",
      "The frame.append method is deprecated and will be removed from pandas in a future version. Use pandas.concat instead.\n",
      "\n",
      "/tmp/ipykernel_162/661080488.py:11: FutureWarning:\n",
      "\n",
      "The frame.append method is deprecated and will be removed from pandas in a future version. Use pandas.concat instead.\n",
      "\n",
      "/tmp/ipykernel_162/661080488.py:11: FutureWarning:\n",
      "\n",
      "The frame.append method is deprecated and will be removed from pandas in a future version. Use pandas.concat instead.\n",
      "\n",
      "/tmp/ipykernel_162/661080488.py:11: FutureWarning:\n",
      "\n",
      "The frame.append method is deprecated and will be removed from pandas in a future version. Use pandas.concat instead.\n",
      "\n",
      "/tmp/ipykernel_162/661080488.py:11: FutureWarning:\n",
      "\n",
      "The frame.append method is deprecated and will be removed from pandas in a future version. Use pandas.concat instead.\n",
      "\n",
      "/tmp/ipykernel_162/661080488.py:11: FutureWarning:\n",
      "\n",
      "The frame.append method is deprecated and will be removed from pandas in a future version. Use pandas.concat instead.\n",
      "\n",
      "/tmp/ipykernel_162/661080488.py:11: FutureWarning:\n",
      "\n",
      "The frame.append method is deprecated and will be removed from pandas in a future version. Use pandas.concat instead.\n",
      "\n",
      "/tmp/ipykernel_162/661080488.py:11: FutureWarning:\n",
      "\n",
      "The frame.append method is deprecated and will be removed from pandas in a future version. Use pandas.concat instead.\n",
      "\n",
      "/tmp/ipykernel_162/661080488.py:11: FutureWarning:\n",
      "\n",
      "The frame.append method is deprecated and will be removed from pandas in a future version. Use pandas.concat instead.\n",
      "\n",
      "/tmp/ipykernel_162/661080488.py:11: FutureWarning:\n",
      "\n",
      "The frame.append method is deprecated and will be removed from pandas in a future version. Use pandas.concat instead.\n",
      "\n",
      "/tmp/ipykernel_162/661080488.py:11: FutureWarning:\n",
      "\n",
      "The frame.append method is deprecated and will be removed from pandas in a future version. Use pandas.concat instead.\n",
      "\n",
      "/tmp/ipykernel_162/661080488.py:11: FutureWarning:\n",
      "\n",
      "The frame.append method is deprecated and will be removed from pandas in a future version. Use pandas.concat instead.\n",
      "\n",
      "/tmp/ipykernel_162/661080488.py:11: FutureWarning:\n",
      "\n",
      "The frame.append method is deprecated and will be removed from pandas in a future version. Use pandas.concat instead.\n",
      "\n",
      "/tmp/ipykernel_162/661080488.py:11: FutureWarning:\n",
      "\n",
      "The frame.append method is deprecated and will be removed from pandas in a future version. Use pandas.concat instead.\n",
      "\n",
      "/tmp/ipykernel_162/661080488.py:11: FutureWarning:\n",
      "\n",
      "The frame.append method is deprecated and will be removed from pandas in a future version. Use pandas.concat instead.\n",
      "\n",
      "/tmp/ipykernel_162/661080488.py:11: FutureWarning:\n",
      "\n",
      "The frame.append method is deprecated and will be removed from pandas in a future version. Use pandas.concat instead.\n",
      "\n",
      "/tmp/ipykernel_162/661080488.py:11: FutureWarning:\n",
      "\n",
      "The frame.append method is deprecated and will be removed from pandas in a future version. Use pandas.concat instead.\n",
      "\n",
      "/tmp/ipykernel_162/661080488.py:11: FutureWarning:\n",
      "\n",
      "The frame.append method is deprecated and will be removed from pandas in a future version. Use pandas.concat instead.\n",
      "\n",
      "/tmp/ipykernel_162/661080488.py:11: FutureWarning:\n",
      "\n",
      "The frame.append method is deprecated and will be removed from pandas in a future version. Use pandas.concat instead.\n",
      "\n",
      "/tmp/ipykernel_162/661080488.py:11: FutureWarning:\n",
      "\n",
      "The frame.append method is deprecated and will be removed from pandas in a future version. Use pandas.concat instead.\n",
      "\n",
      "/tmp/ipykernel_162/661080488.py:11: FutureWarning:\n",
      "\n",
      "The frame.append method is deprecated and will be removed from pandas in a future version. Use pandas.concat instead.\n",
      "\n",
      "/tmp/ipykernel_162/661080488.py:11: FutureWarning:\n",
      "\n",
      "The frame.append method is deprecated and will be removed from pandas in a future version. Use pandas.concat instead.\n",
      "\n",
      "/tmp/ipykernel_162/661080488.py:11: FutureWarning:\n",
      "\n",
      "The frame.append method is deprecated and will be removed from pandas in a future version. Use pandas.concat instead.\n",
      "\n",
      "/tmp/ipykernel_162/661080488.py:11: FutureWarning:\n",
      "\n",
      "The frame.append method is deprecated and will be removed from pandas in a future version. Use pandas.concat instead.\n",
      "\n",
      "/tmp/ipykernel_162/661080488.py:11: FutureWarning:\n",
      "\n",
      "The frame.append method is deprecated and will be removed from pandas in a future version. Use pandas.concat instead.\n",
      "\n",
      "/tmp/ipykernel_162/661080488.py:11: FutureWarning:\n",
      "\n",
      "The frame.append method is deprecated and will be removed from pandas in a future version. Use pandas.concat instead.\n",
      "\n"
     ]
    }
   ],
   "source": [
    "print(\"Calculating...\")\n",
    "results = pd.DataFrame(columns=[\"small trade\", \"amount\", \"calculated result\", \"simulated result\"])\n",
    "smalltrades = [decimal.Decimal(0.1), 1, 2, 6, 10]\n",
    "amounts = [1, 10, 50, 100, 500, 1000]\n",
    "\n",
    "for s in smalltrades:\n",
    "    for a in amounts:\n",
    "        calc = calcSpotPriceGivenIn(a)\n",
    "        simulated = float(simulateSpotPrice(a, s))\n",
    "        new_row = {\"small trade\": s, \"amount\": a, \"calculated result\": calc, \"simulated result\":simulated}\n",
    "        results = results.append(new_row, ignore_index=True)"
   ]
  },
  {
   "cell_type": "code",
   "execution_count": 101,
   "id": "5f39b92e",
   "metadata": {},
   "outputs": [
    {
     "data": {
      "application/vnd.plotly.v1+json": {
       "config": {
        "plotlyServerURL": "https://plot.ly"
       },
       "data": [
        {
         "hovertemplate": "small trade=%{x}<br>simulated result=%{y}<extra></extra>",
         "legendgroup": "",
         "marker": {
          "color": "#636efa",
          "symbol": "circle"
         },
         "mode": "markers",
         "name": "",
         "orientation": "v",
         "showlegend": false,
         "type": "scatter",
         "x": [
          0.1,
          0.1,
          0.1,
          0.1,
          0.1,
          0.1,
          1,
          1,
          1,
          1,
          1,
          1,
          2,
          2,
          2,
          2,
          2,
          2,
          6,
          6,
          6,
          6,
          6,
          6,
          10,
          10,
          10,
          10,
          10,
          10
         ],
         "xaxis": "x",
         "y": [
          -8.999727743158324,
          -8.995718434537558,
          -8.977693026899535,
          -8.954662056667424,
          -8.744837103620947,
          -8.385415139066076,
          -7.773793285372615e-05,
          -0.0005757663041035332,
          -0.002754177574963536,
          -0.005401085727957988,
          -0.02424499643824983,
          -0.04433468831479831,
          0.4998500667437084,
          0.49910170713871244,
          0.49580115197038405,
          0.49172794842515627,
          0.460178224368804,
          0.41899279593024125,
          0.832950237737134,
          0.8320352554959622,
          0.8279876099693934,
          0.8229644154258925,
          0.782937056021771,
          0.7276464161861668,
          0.8993927272524123,
          0.8984446701592379,
          0.8942485519203097,
          0.8890361726739725,
          0.847306302487193,
          0.7891546851137086
         ],
         "yaxis": "y"
        }
       ],
       "layout": {
        "legend": {
         "tracegroupgap": 0
        },
        "margin": {
         "t": 60
        },
        "template": {
         "data": {
          "bar": [
           {
            "error_x": {
             "color": "#2a3f5f"
            },
            "error_y": {
             "color": "#2a3f5f"
            },
            "marker": {
             "line": {
              "color": "#E5ECF6",
              "width": 0.5
             },
             "pattern": {
              "fillmode": "overlay",
              "size": 10,
              "solidity": 0.2
             }
            },
            "type": "bar"
           }
          ],
          "barpolar": [
           {
            "marker": {
             "line": {
              "color": "#E5ECF6",
              "width": 0.5
             },
             "pattern": {
              "fillmode": "overlay",
              "size": 10,
              "solidity": 0.2
             }
            },
            "type": "barpolar"
           }
          ],
          "carpet": [
           {
            "aaxis": {
             "endlinecolor": "#2a3f5f",
             "gridcolor": "white",
             "linecolor": "white",
             "minorgridcolor": "white",
             "startlinecolor": "#2a3f5f"
            },
            "baxis": {
             "endlinecolor": "#2a3f5f",
             "gridcolor": "white",
             "linecolor": "white",
             "minorgridcolor": "white",
             "startlinecolor": "#2a3f5f"
            },
            "type": "carpet"
           }
          ],
          "choropleth": [
           {
            "colorbar": {
             "outlinewidth": 0,
             "ticks": ""
            },
            "type": "choropleth"
           }
          ],
          "contour": [
           {
            "colorbar": {
             "outlinewidth": 0,
             "ticks": ""
            },
            "colorscale": [
             [
              0,
              "#0d0887"
             ],
             [
              0.1111111111111111,
              "#46039f"
             ],
             [
              0.2222222222222222,
              "#7201a8"
             ],
             [
              0.3333333333333333,
              "#9c179e"
             ],
             [
              0.4444444444444444,
              "#bd3786"
             ],
             [
              0.5555555555555556,
              "#d8576b"
             ],
             [
              0.6666666666666666,
              "#ed7953"
             ],
             [
              0.7777777777777778,
              "#fb9f3a"
             ],
             [
              0.8888888888888888,
              "#fdca26"
             ],
             [
              1,
              "#f0f921"
             ]
            ],
            "type": "contour"
           }
          ],
          "contourcarpet": [
           {
            "colorbar": {
             "outlinewidth": 0,
             "ticks": ""
            },
            "type": "contourcarpet"
           }
          ],
          "heatmap": [
           {
            "colorbar": {
             "outlinewidth": 0,
             "ticks": ""
            },
            "colorscale": [
             [
              0,
              "#0d0887"
             ],
             [
              0.1111111111111111,
              "#46039f"
             ],
             [
              0.2222222222222222,
              "#7201a8"
             ],
             [
              0.3333333333333333,
              "#9c179e"
             ],
             [
              0.4444444444444444,
              "#bd3786"
             ],
             [
              0.5555555555555556,
              "#d8576b"
             ],
             [
              0.6666666666666666,
              "#ed7953"
             ],
             [
              0.7777777777777778,
              "#fb9f3a"
             ],
             [
              0.8888888888888888,
              "#fdca26"
             ],
             [
              1,
              "#f0f921"
             ]
            ],
            "type": "heatmap"
           }
          ],
          "heatmapgl": [
           {
            "colorbar": {
             "outlinewidth": 0,
             "ticks": ""
            },
            "colorscale": [
             [
              0,
              "#0d0887"
             ],
             [
              0.1111111111111111,
              "#46039f"
             ],
             [
              0.2222222222222222,
              "#7201a8"
             ],
             [
              0.3333333333333333,
              "#9c179e"
             ],
             [
              0.4444444444444444,
              "#bd3786"
             ],
             [
              0.5555555555555556,
              "#d8576b"
             ],
             [
              0.6666666666666666,
              "#ed7953"
             ],
             [
              0.7777777777777778,
              "#fb9f3a"
             ],
             [
              0.8888888888888888,
              "#fdca26"
             ],
             [
              1,
              "#f0f921"
             ]
            ],
            "type": "heatmapgl"
           }
          ],
          "histogram": [
           {
            "marker": {
             "pattern": {
              "fillmode": "overlay",
              "size": 10,
              "solidity": 0.2
             }
            },
            "type": "histogram"
           }
          ],
          "histogram2d": [
           {
            "colorbar": {
             "outlinewidth": 0,
             "ticks": ""
            },
            "colorscale": [
             [
              0,
              "#0d0887"
             ],
             [
              0.1111111111111111,
              "#46039f"
             ],
             [
              0.2222222222222222,
              "#7201a8"
             ],
             [
              0.3333333333333333,
              "#9c179e"
             ],
             [
              0.4444444444444444,
              "#bd3786"
             ],
             [
              0.5555555555555556,
              "#d8576b"
             ],
             [
              0.6666666666666666,
              "#ed7953"
             ],
             [
              0.7777777777777778,
              "#fb9f3a"
             ],
             [
              0.8888888888888888,
              "#fdca26"
             ],
             [
              1,
              "#f0f921"
             ]
            ],
            "type": "histogram2d"
           }
          ],
          "histogram2dcontour": [
           {
            "colorbar": {
             "outlinewidth": 0,
             "ticks": ""
            },
            "colorscale": [
             [
              0,
              "#0d0887"
             ],
             [
              0.1111111111111111,
              "#46039f"
             ],
             [
              0.2222222222222222,
              "#7201a8"
             ],
             [
              0.3333333333333333,
              "#9c179e"
             ],
             [
              0.4444444444444444,
              "#bd3786"
             ],
             [
              0.5555555555555556,
              "#d8576b"
             ],
             [
              0.6666666666666666,
              "#ed7953"
             ],
             [
              0.7777777777777778,
              "#fb9f3a"
             ],
             [
              0.8888888888888888,
              "#fdca26"
             ],
             [
              1,
              "#f0f921"
             ]
            ],
            "type": "histogram2dcontour"
           }
          ],
          "mesh3d": [
           {
            "colorbar": {
             "outlinewidth": 0,
             "ticks": ""
            },
            "type": "mesh3d"
           }
          ],
          "parcoords": [
           {
            "line": {
             "colorbar": {
              "outlinewidth": 0,
              "ticks": ""
             }
            },
            "type": "parcoords"
           }
          ],
          "pie": [
           {
            "automargin": true,
            "type": "pie"
           }
          ],
          "scatter": [
           {
            "fillpattern": {
             "fillmode": "overlay",
             "size": 10,
             "solidity": 0.2
            },
            "type": "scatter"
           }
          ],
          "scatter3d": [
           {
            "line": {
             "colorbar": {
              "outlinewidth": 0,
              "ticks": ""
             }
            },
            "marker": {
             "colorbar": {
              "outlinewidth": 0,
              "ticks": ""
             }
            },
            "type": "scatter3d"
           }
          ],
          "scattercarpet": [
           {
            "marker": {
             "colorbar": {
              "outlinewidth": 0,
              "ticks": ""
             }
            },
            "type": "scattercarpet"
           }
          ],
          "scattergeo": [
           {
            "marker": {
             "colorbar": {
              "outlinewidth": 0,
              "ticks": ""
             }
            },
            "type": "scattergeo"
           }
          ],
          "scattergl": [
           {
            "marker": {
             "colorbar": {
              "outlinewidth": 0,
              "ticks": ""
             }
            },
            "type": "scattergl"
           }
          ],
          "scattermapbox": [
           {
            "marker": {
             "colorbar": {
              "outlinewidth": 0,
              "ticks": ""
             }
            },
            "type": "scattermapbox"
           }
          ],
          "scatterpolar": [
           {
            "marker": {
             "colorbar": {
              "outlinewidth": 0,
              "ticks": ""
             }
            },
            "type": "scatterpolar"
           }
          ],
          "scatterpolargl": [
           {
            "marker": {
             "colorbar": {
              "outlinewidth": 0,
              "ticks": ""
             }
            },
            "type": "scatterpolargl"
           }
          ],
          "scatterternary": [
           {
            "marker": {
             "colorbar": {
              "outlinewidth": 0,
              "ticks": ""
             }
            },
            "type": "scatterternary"
           }
          ],
          "surface": [
           {
            "colorbar": {
             "outlinewidth": 0,
             "ticks": ""
            },
            "colorscale": [
             [
              0,
              "#0d0887"
             ],
             [
              0.1111111111111111,
              "#46039f"
             ],
             [
              0.2222222222222222,
              "#7201a8"
             ],
             [
              0.3333333333333333,
              "#9c179e"
             ],
             [
              0.4444444444444444,
              "#bd3786"
             ],
             [
              0.5555555555555556,
              "#d8576b"
             ],
             [
              0.6666666666666666,
              "#ed7953"
             ],
             [
              0.7777777777777778,
              "#fb9f3a"
             ],
             [
              0.8888888888888888,
              "#fdca26"
             ],
             [
              1,
              "#f0f921"
             ]
            ],
            "type": "surface"
           }
          ],
          "table": [
           {
            "cells": {
             "fill": {
              "color": "#EBF0F8"
             },
             "line": {
              "color": "white"
             }
            },
            "header": {
             "fill": {
              "color": "#C8D4E3"
             },
             "line": {
              "color": "white"
             }
            },
            "type": "table"
           }
          ]
         },
         "layout": {
          "annotationdefaults": {
           "arrowcolor": "#2a3f5f",
           "arrowhead": 0,
           "arrowwidth": 1
          },
          "autotypenumbers": "strict",
          "coloraxis": {
           "colorbar": {
            "outlinewidth": 0,
            "ticks": ""
           }
          },
          "colorscale": {
           "diverging": [
            [
             0,
             "#8e0152"
            ],
            [
             0.1,
             "#c51b7d"
            ],
            [
             0.2,
             "#de77ae"
            ],
            [
             0.3,
             "#f1b6da"
            ],
            [
             0.4,
             "#fde0ef"
            ],
            [
             0.5,
             "#f7f7f7"
            ],
            [
             0.6,
             "#e6f5d0"
            ],
            [
             0.7,
             "#b8e186"
            ],
            [
             0.8,
             "#7fbc41"
            ],
            [
             0.9,
             "#4d9221"
            ],
            [
             1,
             "#276419"
            ]
           ],
           "sequential": [
            [
             0,
             "#0d0887"
            ],
            [
             0.1111111111111111,
             "#46039f"
            ],
            [
             0.2222222222222222,
             "#7201a8"
            ],
            [
             0.3333333333333333,
             "#9c179e"
            ],
            [
             0.4444444444444444,
             "#bd3786"
            ],
            [
             0.5555555555555556,
             "#d8576b"
            ],
            [
             0.6666666666666666,
             "#ed7953"
            ],
            [
             0.7777777777777778,
             "#fb9f3a"
            ],
            [
             0.8888888888888888,
             "#fdca26"
            ],
            [
             1,
             "#f0f921"
            ]
           ],
           "sequentialminus": [
            [
             0,
             "#0d0887"
            ],
            [
             0.1111111111111111,
             "#46039f"
            ],
            [
             0.2222222222222222,
             "#7201a8"
            ],
            [
             0.3333333333333333,
             "#9c179e"
            ],
            [
             0.4444444444444444,
             "#bd3786"
            ],
            [
             0.5555555555555556,
             "#d8576b"
            ],
            [
             0.6666666666666666,
             "#ed7953"
            ],
            [
             0.7777777777777778,
             "#fb9f3a"
            ],
            [
             0.8888888888888888,
             "#fdca26"
            ],
            [
             1,
             "#f0f921"
            ]
           ]
          },
          "colorway": [
           "#636efa",
           "#EF553B",
           "#00cc96",
           "#ab63fa",
           "#FFA15A",
           "#19d3f3",
           "#FF6692",
           "#B6E880",
           "#FF97FF",
           "#FECB52"
          ],
          "font": {
           "color": "#2a3f5f"
          },
          "geo": {
           "bgcolor": "white",
           "lakecolor": "white",
           "landcolor": "#E5ECF6",
           "showlakes": true,
           "showland": true,
           "subunitcolor": "white"
          },
          "hoverlabel": {
           "align": "left"
          },
          "hovermode": "closest",
          "mapbox": {
           "style": "light"
          },
          "paper_bgcolor": "white",
          "plot_bgcolor": "#E5ECF6",
          "polar": {
           "angularaxis": {
            "gridcolor": "white",
            "linecolor": "white",
            "ticks": ""
           },
           "bgcolor": "#E5ECF6",
           "radialaxis": {
            "gridcolor": "white",
            "linecolor": "white",
            "ticks": ""
           }
          },
          "scene": {
           "xaxis": {
            "backgroundcolor": "#E5ECF6",
            "gridcolor": "white",
            "gridwidth": 2,
            "linecolor": "white",
            "showbackground": true,
            "ticks": "",
            "zerolinecolor": "white"
           },
           "yaxis": {
            "backgroundcolor": "#E5ECF6",
            "gridcolor": "white",
            "gridwidth": 2,
            "linecolor": "white",
            "showbackground": true,
            "ticks": "",
            "zerolinecolor": "white"
           },
           "zaxis": {
            "backgroundcolor": "#E5ECF6",
            "gridcolor": "white",
            "gridwidth": 2,
            "linecolor": "white",
            "showbackground": true,
            "ticks": "",
            "zerolinecolor": "white"
           }
          },
          "shapedefaults": {
           "line": {
            "color": "#2a3f5f"
           }
          },
          "ternary": {
           "aaxis": {
            "gridcolor": "white",
            "linecolor": "white",
            "ticks": ""
           },
           "baxis": {
            "gridcolor": "white",
            "linecolor": "white",
            "ticks": ""
           },
           "bgcolor": "#E5ECF6",
           "caxis": {
            "gridcolor": "white",
            "linecolor": "white",
            "ticks": ""
           }
          },
          "title": {
           "x": 0.05
          },
          "xaxis": {
           "automargin": true,
           "gridcolor": "white",
           "linecolor": "white",
           "ticks": "",
           "title": {
            "standoff": 15
           },
           "zerolinecolor": "white",
           "zerolinewidth": 2
          },
          "yaxis": {
           "automargin": true,
           "gridcolor": "white",
           "linecolor": "white",
           "ticks": "",
           "title": {
            "standoff": 15
           },
           "zerolinecolor": "white",
           "zerolinewidth": 2
          }
         }
        },
        "xaxis": {
         "anchor": "y",
         "domain": [
          0,
          1
         ],
         "title": {
          "text": "small trade"
         }
        },
        "yaxis": {
         "anchor": "x",
         "domain": [
          0,
          1
         ],
         "title": {
          "text": "simulated result"
         }
        }
       }
      },
      "text/html": [
       "<div>                            <div id=\"1a281a78-38c4-4a88-b950-bbd6938ac885\" class=\"plotly-graph-div\" style=\"height:525px; width:100%;\"></div>            <script type=\"text/javascript\">                require([\"plotly\"], function(Plotly) {                    window.PLOTLYENV=window.PLOTLYENV || {};                                    if (document.getElementById(\"1a281a78-38c4-4a88-b950-bbd6938ac885\")) {                    Plotly.newPlot(                        \"1a281a78-38c4-4a88-b950-bbd6938ac885\",                        [{\"hovertemplate\":\"small trade=%{x}<br>simulated result=%{y}<extra></extra>\",\"legendgroup\":\"\",\"marker\":{\"color\":\"#636efa\",\"symbol\":\"circle\"},\"mode\":\"markers\",\"name\":\"\",\"orientation\":\"v\",\"showlegend\":false,\"x\":[0.1,0.1,0.1,0.1,0.1,0.1,1.0,1.0,1.0,1.0,1.0,1.0,2.0,2.0,2.0,2.0,2.0,2.0,6.0,6.0,6.0,6.0,6.0,6.0,10.0,10.0,10.0,10.0,10.0,10.0],\"xaxis\":\"x\",\"y\":[-8.999727743158324,-8.995718434537558,-8.977693026899535,-8.954662056667424,-8.744837103620947,-8.385415139066076,-7.773793285372615e-05,-0.0005757663041035332,-0.002754177574963536,-0.005401085727957988,-0.02424499643824983,-0.04433468831479831,0.4998500667437084,0.49910170713871244,0.49580115197038405,0.49172794842515627,0.460178224368804,0.41899279593024125,0.832950237737134,0.8320352554959622,0.8279876099693934,0.8229644154258925,0.782937056021771,0.7276464161861668,0.8993927272524123,0.8984446701592379,0.8942485519203097,0.8890361726739725,0.847306302487193,0.7891546851137086],\"yaxis\":\"y\",\"type\":\"scatter\"}],                        {\"template\":{\"data\":{\"histogram2dcontour\":[{\"type\":\"histogram2dcontour\",\"colorbar\":{\"outlinewidth\":0,\"ticks\":\"\"},\"colorscale\":[[0.0,\"#0d0887\"],[0.1111111111111111,\"#46039f\"],[0.2222222222222222,\"#7201a8\"],[0.3333333333333333,\"#9c179e\"],[0.4444444444444444,\"#bd3786\"],[0.5555555555555556,\"#d8576b\"],[0.6666666666666666,\"#ed7953\"],[0.7777777777777778,\"#fb9f3a\"],[0.8888888888888888,\"#fdca26\"],[1.0,\"#f0f921\"]]}],\"choropleth\":[{\"type\":\"choropleth\",\"colorbar\":{\"outlinewidth\":0,\"ticks\":\"\"}}],\"histogram2d\":[{\"type\":\"histogram2d\",\"colorbar\":{\"outlinewidth\":0,\"ticks\":\"\"},\"colorscale\":[[0.0,\"#0d0887\"],[0.1111111111111111,\"#46039f\"],[0.2222222222222222,\"#7201a8\"],[0.3333333333333333,\"#9c179e\"],[0.4444444444444444,\"#bd3786\"],[0.5555555555555556,\"#d8576b\"],[0.6666666666666666,\"#ed7953\"],[0.7777777777777778,\"#fb9f3a\"],[0.8888888888888888,\"#fdca26\"],[1.0,\"#f0f921\"]]}],\"heatmap\":[{\"type\":\"heatmap\",\"colorbar\":{\"outlinewidth\":0,\"ticks\":\"\"},\"colorscale\":[[0.0,\"#0d0887\"],[0.1111111111111111,\"#46039f\"],[0.2222222222222222,\"#7201a8\"],[0.3333333333333333,\"#9c179e\"],[0.4444444444444444,\"#bd3786\"],[0.5555555555555556,\"#d8576b\"],[0.6666666666666666,\"#ed7953\"],[0.7777777777777778,\"#fb9f3a\"],[0.8888888888888888,\"#fdca26\"],[1.0,\"#f0f921\"]]}],\"heatmapgl\":[{\"type\":\"heatmapgl\",\"colorbar\":{\"outlinewidth\":0,\"ticks\":\"\"},\"colorscale\":[[0.0,\"#0d0887\"],[0.1111111111111111,\"#46039f\"],[0.2222222222222222,\"#7201a8\"],[0.3333333333333333,\"#9c179e\"],[0.4444444444444444,\"#bd3786\"],[0.5555555555555556,\"#d8576b\"],[0.6666666666666666,\"#ed7953\"],[0.7777777777777778,\"#fb9f3a\"],[0.8888888888888888,\"#fdca26\"],[1.0,\"#f0f921\"]]}],\"contourcarpet\":[{\"type\":\"contourcarpet\",\"colorbar\":{\"outlinewidth\":0,\"ticks\":\"\"}}],\"contour\":[{\"type\":\"contour\",\"colorbar\":{\"outlinewidth\":0,\"ticks\":\"\"},\"colorscale\":[[0.0,\"#0d0887\"],[0.1111111111111111,\"#46039f\"],[0.2222222222222222,\"#7201a8\"],[0.3333333333333333,\"#9c179e\"],[0.4444444444444444,\"#bd3786\"],[0.5555555555555556,\"#d8576b\"],[0.6666666666666666,\"#ed7953\"],[0.7777777777777778,\"#fb9f3a\"],[0.8888888888888888,\"#fdca26\"],[1.0,\"#f0f921\"]]}],\"surface\":[{\"type\":\"surface\",\"colorbar\":{\"outlinewidth\":0,\"ticks\":\"\"},\"colorscale\":[[0.0,\"#0d0887\"],[0.1111111111111111,\"#46039f\"],[0.2222222222222222,\"#7201a8\"],[0.3333333333333333,\"#9c179e\"],[0.4444444444444444,\"#bd3786\"],[0.5555555555555556,\"#d8576b\"],[0.6666666666666666,\"#ed7953\"],[0.7777777777777778,\"#fb9f3a\"],[0.8888888888888888,\"#fdca26\"],[1.0,\"#f0f921\"]]}],\"mesh3d\":[{\"type\":\"mesh3d\",\"colorbar\":{\"outlinewidth\":0,\"ticks\":\"\"}}],\"scatter\":[{\"fillpattern\":{\"fillmode\":\"overlay\",\"size\":10,\"solidity\":0.2},\"type\":\"scatter\"}],\"parcoords\":[{\"type\":\"parcoords\",\"line\":{\"colorbar\":{\"outlinewidth\":0,\"ticks\":\"\"}}}],\"scatterpolargl\":[{\"type\":\"scatterpolargl\",\"marker\":{\"colorbar\":{\"outlinewidth\":0,\"ticks\":\"\"}}}],\"bar\":[{\"error_x\":{\"color\":\"#2a3f5f\"},\"error_y\":{\"color\":\"#2a3f5f\"},\"marker\":{\"line\":{\"color\":\"#E5ECF6\",\"width\":0.5},\"pattern\":{\"fillmode\":\"overlay\",\"size\":10,\"solidity\":0.2}},\"type\":\"bar\"}],\"scattergeo\":[{\"type\":\"scattergeo\",\"marker\":{\"colorbar\":{\"outlinewidth\":0,\"ticks\":\"\"}}}],\"scatterpolar\":[{\"type\":\"scatterpolar\",\"marker\":{\"colorbar\":{\"outlinewidth\":0,\"ticks\":\"\"}}}],\"histogram\":[{\"marker\":{\"pattern\":{\"fillmode\":\"overlay\",\"size\":10,\"solidity\":0.2}},\"type\":\"histogram\"}],\"scattergl\":[{\"type\":\"scattergl\",\"marker\":{\"colorbar\":{\"outlinewidth\":0,\"ticks\":\"\"}}}],\"scatter3d\":[{\"type\":\"scatter3d\",\"line\":{\"colorbar\":{\"outlinewidth\":0,\"ticks\":\"\"}},\"marker\":{\"colorbar\":{\"outlinewidth\":0,\"ticks\":\"\"}}}],\"scattermapbox\":[{\"type\":\"scattermapbox\",\"marker\":{\"colorbar\":{\"outlinewidth\":0,\"ticks\":\"\"}}}],\"scatterternary\":[{\"type\":\"scatterternary\",\"marker\":{\"colorbar\":{\"outlinewidth\":0,\"ticks\":\"\"}}}],\"scattercarpet\":[{\"type\":\"scattercarpet\",\"marker\":{\"colorbar\":{\"outlinewidth\":0,\"ticks\":\"\"}}}],\"carpet\":[{\"aaxis\":{\"endlinecolor\":\"#2a3f5f\",\"gridcolor\":\"white\",\"linecolor\":\"white\",\"minorgridcolor\":\"white\",\"startlinecolor\":\"#2a3f5f\"},\"baxis\":{\"endlinecolor\":\"#2a3f5f\",\"gridcolor\":\"white\",\"linecolor\":\"white\",\"minorgridcolor\":\"white\",\"startlinecolor\":\"#2a3f5f\"},\"type\":\"carpet\"}],\"table\":[{\"cells\":{\"fill\":{\"color\":\"#EBF0F8\"},\"line\":{\"color\":\"white\"}},\"header\":{\"fill\":{\"color\":\"#C8D4E3\"},\"line\":{\"color\":\"white\"}},\"type\":\"table\"}],\"barpolar\":[{\"marker\":{\"line\":{\"color\":\"#E5ECF6\",\"width\":0.5},\"pattern\":{\"fillmode\":\"overlay\",\"size\":10,\"solidity\":0.2}},\"type\":\"barpolar\"}],\"pie\":[{\"automargin\":true,\"type\":\"pie\"}]},\"layout\":{\"autotypenumbers\":\"strict\",\"colorway\":[\"#636efa\",\"#EF553B\",\"#00cc96\",\"#ab63fa\",\"#FFA15A\",\"#19d3f3\",\"#FF6692\",\"#B6E880\",\"#FF97FF\",\"#FECB52\"],\"font\":{\"color\":\"#2a3f5f\"},\"hovermode\":\"closest\",\"hoverlabel\":{\"align\":\"left\"},\"paper_bgcolor\":\"white\",\"plot_bgcolor\":\"#E5ECF6\",\"polar\":{\"bgcolor\":\"#E5ECF6\",\"angularaxis\":{\"gridcolor\":\"white\",\"linecolor\":\"white\",\"ticks\":\"\"},\"radialaxis\":{\"gridcolor\":\"white\",\"linecolor\":\"white\",\"ticks\":\"\"}},\"ternary\":{\"bgcolor\":\"#E5ECF6\",\"aaxis\":{\"gridcolor\":\"white\",\"linecolor\":\"white\",\"ticks\":\"\"},\"baxis\":{\"gridcolor\":\"white\",\"linecolor\":\"white\",\"ticks\":\"\"},\"caxis\":{\"gridcolor\":\"white\",\"linecolor\":\"white\",\"ticks\":\"\"}},\"coloraxis\":{\"colorbar\":{\"outlinewidth\":0,\"ticks\":\"\"}},\"colorscale\":{\"sequential\":[[0.0,\"#0d0887\"],[0.1111111111111111,\"#46039f\"],[0.2222222222222222,\"#7201a8\"],[0.3333333333333333,\"#9c179e\"],[0.4444444444444444,\"#bd3786\"],[0.5555555555555556,\"#d8576b\"],[0.6666666666666666,\"#ed7953\"],[0.7777777777777778,\"#fb9f3a\"],[0.8888888888888888,\"#fdca26\"],[1.0,\"#f0f921\"]],\"sequentialminus\":[[0.0,\"#0d0887\"],[0.1111111111111111,\"#46039f\"],[0.2222222222222222,\"#7201a8\"],[0.3333333333333333,\"#9c179e\"],[0.4444444444444444,\"#bd3786\"],[0.5555555555555556,\"#d8576b\"],[0.6666666666666666,\"#ed7953\"],[0.7777777777777778,\"#fb9f3a\"],[0.8888888888888888,\"#fdca26\"],[1.0,\"#f0f921\"]],\"diverging\":[[0,\"#8e0152\"],[0.1,\"#c51b7d\"],[0.2,\"#de77ae\"],[0.3,\"#f1b6da\"],[0.4,\"#fde0ef\"],[0.5,\"#f7f7f7\"],[0.6,\"#e6f5d0\"],[0.7,\"#b8e186\"],[0.8,\"#7fbc41\"],[0.9,\"#4d9221\"],[1,\"#276419\"]]},\"xaxis\":{\"gridcolor\":\"white\",\"linecolor\":\"white\",\"ticks\":\"\",\"title\":{\"standoff\":15},\"zerolinecolor\":\"white\",\"automargin\":true,\"zerolinewidth\":2},\"yaxis\":{\"gridcolor\":\"white\",\"linecolor\":\"white\",\"ticks\":\"\",\"title\":{\"standoff\":15},\"zerolinecolor\":\"white\",\"automargin\":true,\"zerolinewidth\":2},\"scene\":{\"xaxis\":{\"backgroundcolor\":\"#E5ECF6\",\"gridcolor\":\"white\",\"linecolor\":\"white\",\"showbackground\":true,\"ticks\":\"\",\"zerolinecolor\":\"white\",\"gridwidth\":2},\"yaxis\":{\"backgroundcolor\":\"#E5ECF6\",\"gridcolor\":\"white\",\"linecolor\":\"white\",\"showbackground\":true,\"ticks\":\"\",\"zerolinecolor\":\"white\",\"gridwidth\":2},\"zaxis\":{\"backgroundcolor\":\"#E5ECF6\",\"gridcolor\":\"white\",\"linecolor\":\"white\",\"showbackground\":true,\"ticks\":\"\",\"zerolinecolor\":\"white\",\"gridwidth\":2}},\"shapedefaults\":{\"line\":{\"color\":\"#2a3f5f\"}},\"annotationdefaults\":{\"arrowcolor\":\"#2a3f5f\",\"arrowhead\":0,\"arrowwidth\":1},\"geo\":{\"bgcolor\":\"white\",\"landcolor\":\"#E5ECF6\",\"subunitcolor\":\"white\",\"showland\":true,\"showlakes\":true,\"lakecolor\":\"white\"},\"title\":{\"x\":0.05},\"mapbox\":{\"style\":\"light\"}}},\"xaxis\":{\"anchor\":\"y\",\"domain\":[0.0,1.0],\"title\":{\"text\":\"small trade\"}},\"yaxis\":{\"anchor\":\"x\",\"domain\":[0.0,1.0],\"title\":{\"text\":\"simulated result\"}},\"legend\":{\"tracegroupgap\":0},\"margin\":{\"t\":60}},                        {\"responsive\": true}                    ).then(function(){\n",
       "                            \n",
       "var gd = document.getElementById('1a281a78-38c4-4a88-b950-bbd6938ac885');\n",
       "var x = new MutationObserver(function (mutations, observer) {{\n",
       "        var display = window.getComputedStyle(gd).display;\n",
       "        if (!display || display === 'none') {{\n",
       "            console.log([gd, 'removed!']);\n",
       "            Plotly.purge(gd);\n",
       "            observer.disconnect();\n",
       "        }}\n",
       "}});\n",
       "\n",
       "// Listen for the removal of the full notebook cells\n",
       "var notebookContainer = gd.closest('#notebook-container');\n",
       "if (notebookContainer) {{\n",
       "    x.observe(notebookContainer, {childList: true});\n",
       "}}\n",
       "\n",
       "// Listen for the clearing of the current output cell\n",
       "var outputEl = gd.closest('.output');\n",
       "if (outputEl) {{\n",
       "    x.observe(outputEl, {childList: true});\n",
       "}}\n",
       "\n",
       "                        })                };                });            </script>        </div>"
      ]
     },
     "metadata": {},
     "output_type": "display_data"
    }
   ],
   "source": [
    "fig = px.scatter(results, x=\"small trade\", y=\"simulated result\")\n",
    "fig.show()"
   ]
  },
  {
   "cell_type": "code",
   "execution_count": 100,
   "id": "f19aacea",
   "metadata": {},
   "outputs": [
    {
     "data": {
      "application/vnd.plotly.v1+json": {
       "config": {
        "plotlyServerURL": "https://plot.ly"
       },
       "data": [
        {
         "hovertemplate": "amount=%{x}<br>calculated result=%{y}<extra></extra>",
         "legendgroup": "",
         "marker": {
          "color": "#636efa",
          "symbol": "circle"
         },
         "mode": "markers",
         "name": "",
         "orientation": "v",
         "showlegend": false,
         "type": "scatter",
         "x": [
          1,
          10,
          50,
          100,
          500,
          1000,
          1,
          10,
          50,
          100,
          500,
          1000,
          1,
          10,
          50,
          100,
          500,
          1000,
          1,
          10,
          50,
          100,
          500,
          1000,
          1,
          10,
          50,
          100,
          500,
          1000
         ],
         "xaxis": "x",
         "y": [
          0.9999997867348982,
          0.9999978673051635,
          0.9999893309082654,
          0.9999786263932563,
          0.9998872011409645,
          0.9997301942465517,
          0.9999997867348982,
          0.9999978673051635,
          0.9999893309082654,
          0.9999786263932563,
          0.9998872011409645,
          0.9997301942465517,
          0.9999997867348982,
          0.9999978673051635,
          0.9999893309082654,
          0.9999786263932563,
          0.9998872011409645,
          0.9997301942465517,
          0.9999997867348982,
          0.9999978673051635,
          0.9999893309082654,
          0.9999786263932563,
          0.9998872011409645,
          0.9997301942465517,
          0.9999997867348982,
          0.9999978673051635,
          0.9999893309082654,
          0.9999786263932563,
          0.9998872011409645,
          0.9997301942465517
         ],
         "yaxis": "y"
        }
       ],
       "layout": {
        "legend": {
         "tracegroupgap": 0
        },
        "margin": {
         "t": 60
        },
        "template": {
         "data": {
          "bar": [
           {
            "error_x": {
             "color": "#2a3f5f"
            },
            "error_y": {
             "color": "#2a3f5f"
            },
            "marker": {
             "line": {
              "color": "#E5ECF6",
              "width": 0.5
             },
             "pattern": {
              "fillmode": "overlay",
              "size": 10,
              "solidity": 0.2
             }
            },
            "type": "bar"
           }
          ],
          "barpolar": [
           {
            "marker": {
             "line": {
              "color": "#E5ECF6",
              "width": 0.5
             },
             "pattern": {
              "fillmode": "overlay",
              "size": 10,
              "solidity": 0.2
             }
            },
            "type": "barpolar"
           }
          ],
          "carpet": [
           {
            "aaxis": {
             "endlinecolor": "#2a3f5f",
             "gridcolor": "white",
             "linecolor": "white",
             "minorgridcolor": "white",
             "startlinecolor": "#2a3f5f"
            },
            "baxis": {
             "endlinecolor": "#2a3f5f",
             "gridcolor": "white",
             "linecolor": "white",
             "minorgridcolor": "white",
             "startlinecolor": "#2a3f5f"
            },
            "type": "carpet"
           }
          ],
          "choropleth": [
           {
            "colorbar": {
             "outlinewidth": 0,
             "ticks": ""
            },
            "type": "choropleth"
           }
          ],
          "contour": [
           {
            "colorbar": {
             "outlinewidth": 0,
             "ticks": ""
            },
            "colorscale": [
             [
              0,
              "#0d0887"
             ],
             [
              0.1111111111111111,
              "#46039f"
             ],
             [
              0.2222222222222222,
              "#7201a8"
             ],
             [
              0.3333333333333333,
              "#9c179e"
             ],
             [
              0.4444444444444444,
              "#bd3786"
             ],
             [
              0.5555555555555556,
              "#d8576b"
             ],
             [
              0.6666666666666666,
              "#ed7953"
             ],
             [
              0.7777777777777778,
              "#fb9f3a"
             ],
             [
              0.8888888888888888,
              "#fdca26"
             ],
             [
              1,
              "#f0f921"
             ]
            ],
            "type": "contour"
           }
          ],
          "contourcarpet": [
           {
            "colorbar": {
             "outlinewidth": 0,
             "ticks": ""
            },
            "type": "contourcarpet"
           }
          ],
          "heatmap": [
           {
            "colorbar": {
             "outlinewidth": 0,
             "ticks": ""
            },
            "colorscale": [
             [
              0,
              "#0d0887"
             ],
             [
              0.1111111111111111,
              "#46039f"
             ],
             [
              0.2222222222222222,
              "#7201a8"
             ],
             [
              0.3333333333333333,
              "#9c179e"
             ],
             [
              0.4444444444444444,
              "#bd3786"
             ],
             [
              0.5555555555555556,
              "#d8576b"
             ],
             [
              0.6666666666666666,
              "#ed7953"
             ],
             [
              0.7777777777777778,
              "#fb9f3a"
             ],
             [
              0.8888888888888888,
              "#fdca26"
             ],
             [
              1,
              "#f0f921"
             ]
            ],
            "type": "heatmap"
           }
          ],
          "heatmapgl": [
           {
            "colorbar": {
             "outlinewidth": 0,
             "ticks": ""
            },
            "colorscale": [
             [
              0,
              "#0d0887"
             ],
             [
              0.1111111111111111,
              "#46039f"
             ],
             [
              0.2222222222222222,
              "#7201a8"
             ],
             [
              0.3333333333333333,
              "#9c179e"
             ],
             [
              0.4444444444444444,
              "#bd3786"
             ],
             [
              0.5555555555555556,
              "#d8576b"
             ],
             [
              0.6666666666666666,
              "#ed7953"
             ],
             [
              0.7777777777777778,
              "#fb9f3a"
             ],
             [
              0.8888888888888888,
              "#fdca26"
             ],
             [
              1,
              "#f0f921"
             ]
            ],
            "type": "heatmapgl"
           }
          ],
          "histogram": [
           {
            "marker": {
             "pattern": {
              "fillmode": "overlay",
              "size": 10,
              "solidity": 0.2
             }
            },
            "type": "histogram"
           }
          ],
          "histogram2d": [
           {
            "colorbar": {
             "outlinewidth": 0,
             "ticks": ""
            },
            "colorscale": [
             [
              0,
              "#0d0887"
             ],
             [
              0.1111111111111111,
              "#46039f"
             ],
             [
              0.2222222222222222,
              "#7201a8"
             ],
             [
              0.3333333333333333,
              "#9c179e"
             ],
             [
              0.4444444444444444,
              "#bd3786"
             ],
             [
              0.5555555555555556,
              "#d8576b"
             ],
             [
              0.6666666666666666,
              "#ed7953"
             ],
             [
              0.7777777777777778,
              "#fb9f3a"
             ],
             [
              0.8888888888888888,
              "#fdca26"
             ],
             [
              1,
              "#f0f921"
             ]
            ],
            "type": "histogram2d"
           }
          ],
          "histogram2dcontour": [
           {
            "colorbar": {
             "outlinewidth": 0,
             "ticks": ""
            },
            "colorscale": [
             [
              0,
              "#0d0887"
             ],
             [
              0.1111111111111111,
              "#46039f"
             ],
             [
              0.2222222222222222,
              "#7201a8"
             ],
             [
              0.3333333333333333,
              "#9c179e"
             ],
             [
              0.4444444444444444,
              "#bd3786"
             ],
             [
              0.5555555555555556,
              "#d8576b"
             ],
             [
              0.6666666666666666,
              "#ed7953"
             ],
             [
              0.7777777777777778,
              "#fb9f3a"
             ],
             [
              0.8888888888888888,
              "#fdca26"
             ],
             [
              1,
              "#f0f921"
             ]
            ],
            "type": "histogram2dcontour"
           }
          ],
          "mesh3d": [
           {
            "colorbar": {
             "outlinewidth": 0,
             "ticks": ""
            },
            "type": "mesh3d"
           }
          ],
          "parcoords": [
           {
            "line": {
             "colorbar": {
              "outlinewidth": 0,
              "ticks": ""
             }
            },
            "type": "parcoords"
           }
          ],
          "pie": [
           {
            "automargin": true,
            "type": "pie"
           }
          ],
          "scatter": [
           {
            "fillpattern": {
             "fillmode": "overlay",
             "size": 10,
             "solidity": 0.2
            },
            "type": "scatter"
           }
          ],
          "scatter3d": [
           {
            "line": {
             "colorbar": {
              "outlinewidth": 0,
              "ticks": ""
             }
            },
            "marker": {
             "colorbar": {
              "outlinewidth": 0,
              "ticks": ""
             }
            },
            "type": "scatter3d"
           }
          ],
          "scattercarpet": [
           {
            "marker": {
             "colorbar": {
              "outlinewidth": 0,
              "ticks": ""
             }
            },
            "type": "scattercarpet"
           }
          ],
          "scattergeo": [
           {
            "marker": {
             "colorbar": {
              "outlinewidth": 0,
              "ticks": ""
             }
            },
            "type": "scattergeo"
           }
          ],
          "scattergl": [
           {
            "marker": {
             "colorbar": {
              "outlinewidth": 0,
              "ticks": ""
             }
            },
            "type": "scattergl"
           }
          ],
          "scattermapbox": [
           {
            "marker": {
             "colorbar": {
              "outlinewidth": 0,
              "ticks": ""
             }
            },
            "type": "scattermapbox"
           }
          ],
          "scatterpolar": [
           {
            "marker": {
             "colorbar": {
              "outlinewidth": 0,
              "ticks": ""
             }
            },
            "type": "scatterpolar"
           }
          ],
          "scatterpolargl": [
           {
            "marker": {
             "colorbar": {
              "outlinewidth": 0,
              "ticks": ""
             }
            },
            "type": "scatterpolargl"
           }
          ],
          "scatterternary": [
           {
            "marker": {
             "colorbar": {
              "outlinewidth": 0,
              "ticks": ""
             }
            },
            "type": "scatterternary"
           }
          ],
          "surface": [
           {
            "colorbar": {
             "outlinewidth": 0,
             "ticks": ""
            },
            "colorscale": [
             [
              0,
              "#0d0887"
             ],
             [
              0.1111111111111111,
              "#46039f"
             ],
             [
              0.2222222222222222,
              "#7201a8"
             ],
             [
              0.3333333333333333,
              "#9c179e"
             ],
             [
              0.4444444444444444,
              "#bd3786"
             ],
             [
              0.5555555555555556,
              "#d8576b"
             ],
             [
              0.6666666666666666,
              "#ed7953"
             ],
             [
              0.7777777777777778,
              "#fb9f3a"
             ],
             [
              0.8888888888888888,
              "#fdca26"
             ],
             [
              1,
              "#f0f921"
             ]
            ],
            "type": "surface"
           }
          ],
          "table": [
           {
            "cells": {
             "fill": {
              "color": "#EBF0F8"
             },
             "line": {
              "color": "white"
             }
            },
            "header": {
             "fill": {
              "color": "#C8D4E3"
             },
             "line": {
              "color": "white"
             }
            },
            "type": "table"
           }
          ]
         },
         "layout": {
          "annotationdefaults": {
           "arrowcolor": "#2a3f5f",
           "arrowhead": 0,
           "arrowwidth": 1
          },
          "autotypenumbers": "strict",
          "coloraxis": {
           "colorbar": {
            "outlinewidth": 0,
            "ticks": ""
           }
          },
          "colorscale": {
           "diverging": [
            [
             0,
             "#8e0152"
            ],
            [
             0.1,
             "#c51b7d"
            ],
            [
             0.2,
             "#de77ae"
            ],
            [
             0.3,
             "#f1b6da"
            ],
            [
             0.4,
             "#fde0ef"
            ],
            [
             0.5,
             "#f7f7f7"
            ],
            [
             0.6,
             "#e6f5d0"
            ],
            [
             0.7,
             "#b8e186"
            ],
            [
             0.8,
             "#7fbc41"
            ],
            [
             0.9,
             "#4d9221"
            ],
            [
             1,
             "#276419"
            ]
           ],
           "sequential": [
            [
             0,
             "#0d0887"
            ],
            [
             0.1111111111111111,
             "#46039f"
            ],
            [
             0.2222222222222222,
             "#7201a8"
            ],
            [
             0.3333333333333333,
             "#9c179e"
            ],
            [
             0.4444444444444444,
             "#bd3786"
            ],
            [
             0.5555555555555556,
             "#d8576b"
            ],
            [
             0.6666666666666666,
             "#ed7953"
            ],
            [
             0.7777777777777778,
             "#fb9f3a"
            ],
            [
             0.8888888888888888,
             "#fdca26"
            ],
            [
             1,
             "#f0f921"
            ]
           ],
           "sequentialminus": [
            [
             0,
             "#0d0887"
            ],
            [
             0.1111111111111111,
             "#46039f"
            ],
            [
             0.2222222222222222,
             "#7201a8"
            ],
            [
             0.3333333333333333,
             "#9c179e"
            ],
            [
             0.4444444444444444,
             "#bd3786"
            ],
            [
             0.5555555555555556,
             "#d8576b"
            ],
            [
             0.6666666666666666,
             "#ed7953"
            ],
            [
             0.7777777777777778,
             "#fb9f3a"
            ],
            [
             0.8888888888888888,
             "#fdca26"
            ],
            [
             1,
             "#f0f921"
            ]
           ]
          },
          "colorway": [
           "#636efa",
           "#EF553B",
           "#00cc96",
           "#ab63fa",
           "#FFA15A",
           "#19d3f3",
           "#FF6692",
           "#B6E880",
           "#FF97FF",
           "#FECB52"
          ],
          "font": {
           "color": "#2a3f5f"
          },
          "geo": {
           "bgcolor": "white",
           "lakecolor": "white",
           "landcolor": "#E5ECF6",
           "showlakes": true,
           "showland": true,
           "subunitcolor": "white"
          },
          "hoverlabel": {
           "align": "left"
          },
          "hovermode": "closest",
          "mapbox": {
           "style": "light"
          },
          "paper_bgcolor": "white",
          "plot_bgcolor": "#E5ECF6",
          "polar": {
           "angularaxis": {
            "gridcolor": "white",
            "linecolor": "white",
            "ticks": ""
           },
           "bgcolor": "#E5ECF6",
           "radialaxis": {
            "gridcolor": "white",
            "linecolor": "white",
            "ticks": ""
           }
          },
          "scene": {
           "xaxis": {
            "backgroundcolor": "#E5ECF6",
            "gridcolor": "white",
            "gridwidth": 2,
            "linecolor": "white",
            "showbackground": true,
            "ticks": "",
            "zerolinecolor": "white"
           },
           "yaxis": {
            "backgroundcolor": "#E5ECF6",
            "gridcolor": "white",
            "gridwidth": 2,
            "linecolor": "white",
            "showbackground": true,
            "ticks": "",
            "zerolinecolor": "white"
           },
           "zaxis": {
            "backgroundcolor": "#E5ECF6",
            "gridcolor": "white",
            "gridwidth": 2,
            "linecolor": "white",
            "showbackground": true,
            "ticks": "",
            "zerolinecolor": "white"
           }
          },
          "shapedefaults": {
           "line": {
            "color": "#2a3f5f"
           }
          },
          "ternary": {
           "aaxis": {
            "gridcolor": "white",
            "linecolor": "white",
            "ticks": ""
           },
           "baxis": {
            "gridcolor": "white",
            "linecolor": "white",
            "ticks": ""
           },
           "bgcolor": "#E5ECF6",
           "caxis": {
            "gridcolor": "white",
            "linecolor": "white",
            "ticks": ""
           }
          },
          "title": {
           "x": 0.05
          },
          "xaxis": {
           "automargin": true,
           "gridcolor": "white",
           "linecolor": "white",
           "ticks": "",
           "title": {
            "standoff": 15
           },
           "zerolinecolor": "white",
           "zerolinewidth": 2
          },
          "yaxis": {
           "automargin": true,
           "gridcolor": "white",
           "linecolor": "white",
           "ticks": "",
           "title": {
            "standoff": 15
           },
           "zerolinecolor": "white",
           "zerolinewidth": 2
          }
         }
        },
        "xaxis": {
         "anchor": "y",
         "domain": [
          0,
          1
         ],
         "title": {
          "text": "amount"
         }
        },
        "yaxis": {
         "anchor": "x",
         "domain": [
          0,
          1
         ],
         "title": {
          "text": "calculated result"
         }
        }
       }
      },
      "text/html": [
       "<div>                            <div id=\"8d7dc5a2-32f6-4057-89f2-b9c2dd38211a\" class=\"plotly-graph-div\" style=\"height:525px; width:100%;\"></div>            <script type=\"text/javascript\">                require([\"plotly\"], function(Plotly) {                    window.PLOTLYENV=window.PLOTLYENV || {};                                    if (document.getElementById(\"8d7dc5a2-32f6-4057-89f2-b9c2dd38211a\")) {                    Plotly.newPlot(                        \"8d7dc5a2-32f6-4057-89f2-b9c2dd38211a\",                        [{\"hovertemplate\":\"amount=%{x}<br>calculated result=%{y}<extra></extra>\",\"legendgroup\":\"\",\"marker\":{\"color\":\"#636efa\",\"symbol\":\"circle\"},\"mode\":\"markers\",\"name\":\"\",\"orientation\":\"v\",\"showlegend\":false,\"x\":[1,10,50,100,500,1000,1.0,10.0,50.0,100.0,500.0,1000.0,1.0,10.0,50.0,100.0,500.0,1000.0,1.0,10.0,50.0,100.0,500.0,1000.0,1.0,10.0,50.0,100.0,500.0,1000.0],\"xaxis\":\"x\",\"y\":[0.9999997867348982,0.9999978673051635,0.9999893309082654,0.9999786263932563,0.9998872011409645,0.9997301942465517,0.9999997867348982,0.9999978673051635,0.9999893309082654,0.9999786263932563,0.9998872011409645,0.9997301942465517,0.9999997867348982,0.9999978673051635,0.9999893309082654,0.9999786263932563,0.9998872011409645,0.9997301942465517,0.9999997867348982,0.9999978673051635,0.9999893309082654,0.9999786263932563,0.9998872011409645,0.9997301942465517,0.9999997867348982,0.9999978673051635,0.9999893309082654,0.9999786263932563,0.9998872011409645,0.9997301942465517],\"yaxis\":\"y\",\"type\":\"scatter\"}],                        {\"template\":{\"data\":{\"histogram2dcontour\":[{\"type\":\"histogram2dcontour\",\"colorbar\":{\"outlinewidth\":0,\"ticks\":\"\"},\"colorscale\":[[0.0,\"#0d0887\"],[0.1111111111111111,\"#46039f\"],[0.2222222222222222,\"#7201a8\"],[0.3333333333333333,\"#9c179e\"],[0.4444444444444444,\"#bd3786\"],[0.5555555555555556,\"#d8576b\"],[0.6666666666666666,\"#ed7953\"],[0.7777777777777778,\"#fb9f3a\"],[0.8888888888888888,\"#fdca26\"],[1.0,\"#f0f921\"]]}],\"choropleth\":[{\"type\":\"choropleth\",\"colorbar\":{\"outlinewidth\":0,\"ticks\":\"\"}}],\"histogram2d\":[{\"type\":\"histogram2d\",\"colorbar\":{\"outlinewidth\":0,\"ticks\":\"\"},\"colorscale\":[[0.0,\"#0d0887\"],[0.1111111111111111,\"#46039f\"],[0.2222222222222222,\"#7201a8\"],[0.3333333333333333,\"#9c179e\"],[0.4444444444444444,\"#bd3786\"],[0.5555555555555556,\"#d8576b\"],[0.6666666666666666,\"#ed7953\"],[0.7777777777777778,\"#fb9f3a\"],[0.8888888888888888,\"#fdca26\"],[1.0,\"#f0f921\"]]}],\"heatmap\":[{\"type\":\"heatmap\",\"colorbar\":{\"outlinewidth\":0,\"ticks\":\"\"},\"colorscale\":[[0.0,\"#0d0887\"],[0.1111111111111111,\"#46039f\"],[0.2222222222222222,\"#7201a8\"],[0.3333333333333333,\"#9c179e\"],[0.4444444444444444,\"#bd3786\"],[0.5555555555555556,\"#d8576b\"],[0.6666666666666666,\"#ed7953\"],[0.7777777777777778,\"#fb9f3a\"],[0.8888888888888888,\"#fdca26\"],[1.0,\"#f0f921\"]]}],\"heatmapgl\":[{\"type\":\"heatmapgl\",\"colorbar\":{\"outlinewidth\":0,\"ticks\":\"\"},\"colorscale\":[[0.0,\"#0d0887\"],[0.1111111111111111,\"#46039f\"],[0.2222222222222222,\"#7201a8\"],[0.3333333333333333,\"#9c179e\"],[0.4444444444444444,\"#bd3786\"],[0.5555555555555556,\"#d8576b\"],[0.6666666666666666,\"#ed7953\"],[0.7777777777777778,\"#fb9f3a\"],[0.8888888888888888,\"#fdca26\"],[1.0,\"#f0f921\"]]}],\"contourcarpet\":[{\"type\":\"contourcarpet\",\"colorbar\":{\"outlinewidth\":0,\"ticks\":\"\"}}],\"contour\":[{\"type\":\"contour\",\"colorbar\":{\"outlinewidth\":0,\"ticks\":\"\"},\"colorscale\":[[0.0,\"#0d0887\"],[0.1111111111111111,\"#46039f\"],[0.2222222222222222,\"#7201a8\"],[0.3333333333333333,\"#9c179e\"],[0.4444444444444444,\"#bd3786\"],[0.5555555555555556,\"#d8576b\"],[0.6666666666666666,\"#ed7953\"],[0.7777777777777778,\"#fb9f3a\"],[0.8888888888888888,\"#fdca26\"],[1.0,\"#f0f921\"]]}],\"surface\":[{\"type\":\"surface\",\"colorbar\":{\"outlinewidth\":0,\"ticks\":\"\"},\"colorscale\":[[0.0,\"#0d0887\"],[0.1111111111111111,\"#46039f\"],[0.2222222222222222,\"#7201a8\"],[0.3333333333333333,\"#9c179e\"],[0.4444444444444444,\"#bd3786\"],[0.5555555555555556,\"#d8576b\"],[0.6666666666666666,\"#ed7953\"],[0.7777777777777778,\"#fb9f3a\"],[0.8888888888888888,\"#fdca26\"],[1.0,\"#f0f921\"]]}],\"mesh3d\":[{\"type\":\"mesh3d\",\"colorbar\":{\"outlinewidth\":0,\"ticks\":\"\"}}],\"scatter\":[{\"fillpattern\":{\"fillmode\":\"overlay\",\"size\":10,\"solidity\":0.2},\"type\":\"scatter\"}],\"parcoords\":[{\"type\":\"parcoords\",\"line\":{\"colorbar\":{\"outlinewidth\":0,\"ticks\":\"\"}}}],\"scatterpolargl\":[{\"type\":\"scatterpolargl\",\"marker\":{\"colorbar\":{\"outlinewidth\":0,\"ticks\":\"\"}}}],\"bar\":[{\"error_x\":{\"color\":\"#2a3f5f\"},\"error_y\":{\"color\":\"#2a3f5f\"},\"marker\":{\"line\":{\"color\":\"#E5ECF6\",\"width\":0.5},\"pattern\":{\"fillmode\":\"overlay\",\"size\":10,\"solidity\":0.2}},\"type\":\"bar\"}],\"scattergeo\":[{\"type\":\"scattergeo\",\"marker\":{\"colorbar\":{\"outlinewidth\":0,\"ticks\":\"\"}}}],\"scatterpolar\":[{\"type\":\"scatterpolar\",\"marker\":{\"colorbar\":{\"outlinewidth\":0,\"ticks\":\"\"}}}],\"histogram\":[{\"marker\":{\"pattern\":{\"fillmode\":\"overlay\",\"size\":10,\"solidity\":0.2}},\"type\":\"histogram\"}],\"scattergl\":[{\"type\":\"scattergl\",\"marker\":{\"colorbar\":{\"outlinewidth\":0,\"ticks\":\"\"}}}],\"scatter3d\":[{\"type\":\"scatter3d\",\"line\":{\"colorbar\":{\"outlinewidth\":0,\"ticks\":\"\"}},\"marker\":{\"colorbar\":{\"outlinewidth\":0,\"ticks\":\"\"}}}],\"scattermapbox\":[{\"type\":\"scattermapbox\",\"marker\":{\"colorbar\":{\"outlinewidth\":0,\"ticks\":\"\"}}}],\"scatterternary\":[{\"type\":\"scatterternary\",\"marker\":{\"colorbar\":{\"outlinewidth\":0,\"ticks\":\"\"}}}],\"scattercarpet\":[{\"type\":\"scattercarpet\",\"marker\":{\"colorbar\":{\"outlinewidth\":0,\"ticks\":\"\"}}}],\"carpet\":[{\"aaxis\":{\"endlinecolor\":\"#2a3f5f\",\"gridcolor\":\"white\",\"linecolor\":\"white\",\"minorgridcolor\":\"white\",\"startlinecolor\":\"#2a3f5f\"},\"baxis\":{\"endlinecolor\":\"#2a3f5f\",\"gridcolor\":\"white\",\"linecolor\":\"white\",\"minorgridcolor\":\"white\",\"startlinecolor\":\"#2a3f5f\"},\"type\":\"carpet\"}],\"table\":[{\"cells\":{\"fill\":{\"color\":\"#EBF0F8\"},\"line\":{\"color\":\"white\"}},\"header\":{\"fill\":{\"color\":\"#C8D4E3\"},\"line\":{\"color\":\"white\"}},\"type\":\"table\"}],\"barpolar\":[{\"marker\":{\"line\":{\"color\":\"#E5ECF6\",\"width\":0.5},\"pattern\":{\"fillmode\":\"overlay\",\"size\":10,\"solidity\":0.2}},\"type\":\"barpolar\"}],\"pie\":[{\"automargin\":true,\"type\":\"pie\"}]},\"layout\":{\"autotypenumbers\":\"strict\",\"colorway\":[\"#636efa\",\"#EF553B\",\"#00cc96\",\"#ab63fa\",\"#FFA15A\",\"#19d3f3\",\"#FF6692\",\"#B6E880\",\"#FF97FF\",\"#FECB52\"],\"font\":{\"color\":\"#2a3f5f\"},\"hovermode\":\"closest\",\"hoverlabel\":{\"align\":\"left\"},\"paper_bgcolor\":\"white\",\"plot_bgcolor\":\"#E5ECF6\",\"polar\":{\"bgcolor\":\"#E5ECF6\",\"angularaxis\":{\"gridcolor\":\"white\",\"linecolor\":\"white\",\"ticks\":\"\"},\"radialaxis\":{\"gridcolor\":\"white\",\"linecolor\":\"white\",\"ticks\":\"\"}},\"ternary\":{\"bgcolor\":\"#E5ECF6\",\"aaxis\":{\"gridcolor\":\"white\",\"linecolor\":\"white\",\"ticks\":\"\"},\"baxis\":{\"gridcolor\":\"white\",\"linecolor\":\"white\",\"ticks\":\"\"},\"caxis\":{\"gridcolor\":\"white\",\"linecolor\":\"white\",\"ticks\":\"\"}},\"coloraxis\":{\"colorbar\":{\"outlinewidth\":0,\"ticks\":\"\"}},\"colorscale\":{\"sequential\":[[0.0,\"#0d0887\"],[0.1111111111111111,\"#46039f\"],[0.2222222222222222,\"#7201a8\"],[0.3333333333333333,\"#9c179e\"],[0.4444444444444444,\"#bd3786\"],[0.5555555555555556,\"#d8576b\"],[0.6666666666666666,\"#ed7953\"],[0.7777777777777778,\"#fb9f3a\"],[0.8888888888888888,\"#fdca26\"],[1.0,\"#f0f921\"]],\"sequentialminus\":[[0.0,\"#0d0887\"],[0.1111111111111111,\"#46039f\"],[0.2222222222222222,\"#7201a8\"],[0.3333333333333333,\"#9c179e\"],[0.4444444444444444,\"#bd3786\"],[0.5555555555555556,\"#d8576b\"],[0.6666666666666666,\"#ed7953\"],[0.7777777777777778,\"#fb9f3a\"],[0.8888888888888888,\"#fdca26\"],[1.0,\"#f0f921\"]],\"diverging\":[[0,\"#8e0152\"],[0.1,\"#c51b7d\"],[0.2,\"#de77ae\"],[0.3,\"#f1b6da\"],[0.4,\"#fde0ef\"],[0.5,\"#f7f7f7\"],[0.6,\"#e6f5d0\"],[0.7,\"#b8e186\"],[0.8,\"#7fbc41\"],[0.9,\"#4d9221\"],[1,\"#276419\"]]},\"xaxis\":{\"gridcolor\":\"white\",\"linecolor\":\"white\",\"ticks\":\"\",\"title\":{\"standoff\":15},\"zerolinecolor\":\"white\",\"automargin\":true,\"zerolinewidth\":2},\"yaxis\":{\"gridcolor\":\"white\",\"linecolor\":\"white\",\"ticks\":\"\",\"title\":{\"standoff\":15},\"zerolinecolor\":\"white\",\"automargin\":true,\"zerolinewidth\":2},\"scene\":{\"xaxis\":{\"backgroundcolor\":\"#E5ECF6\",\"gridcolor\":\"white\",\"linecolor\":\"white\",\"showbackground\":true,\"ticks\":\"\",\"zerolinecolor\":\"white\",\"gridwidth\":2},\"yaxis\":{\"backgroundcolor\":\"#E5ECF6\",\"gridcolor\":\"white\",\"linecolor\":\"white\",\"showbackground\":true,\"ticks\":\"\",\"zerolinecolor\":\"white\",\"gridwidth\":2},\"zaxis\":{\"backgroundcolor\":\"#E5ECF6\",\"gridcolor\":\"white\",\"linecolor\":\"white\",\"showbackground\":true,\"ticks\":\"\",\"zerolinecolor\":\"white\",\"gridwidth\":2}},\"shapedefaults\":{\"line\":{\"color\":\"#2a3f5f\"}},\"annotationdefaults\":{\"arrowcolor\":\"#2a3f5f\",\"arrowhead\":0,\"arrowwidth\":1},\"geo\":{\"bgcolor\":\"white\",\"landcolor\":\"#E5ECF6\",\"subunitcolor\":\"white\",\"showland\":true,\"showlakes\":true,\"lakecolor\":\"white\"},\"title\":{\"x\":0.05},\"mapbox\":{\"style\":\"light\"}}},\"xaxis\":{\"anchor\":\"y\",\"domain\":[0.0,1.0],\"title\":{\"text\":\"amount\"}},\"yaxis\":{\"anchor\":\"x\",\"domain\":[0.0,1.0],\"title\":{\"text\":\"calculated result\"}},\"legend\":{\"tracegroupgap\":0},\"margin\":{\"t\":60}},                        {\"responsive\": true}                    ).then(function(){\n",
       "                            \n",
       "var gd = document.getElementById('8d7dc5a2-32f6-4057-89f2-b9c2dd38211a');\n",
       "var x = new MutationObserver(function (mutations, observer) {{\n",
       "        var display = window.getComputedStyle(gd).display;\n",
       "        if (!display || display === 'none') {{\n",
       "            console.log([gd, 'removed!']);\n",
       "            Plotly.purge(gd);\n",
       "            observer.disconnect();\n",
       "        }}\n",
       "}});\n",
       "\n",
       "// Listen for the removal of the full notebook cells\n",
       "var notebookContainer = gd.closest('#notebook-container');\n",
       "if (notebookContainer) {{\n",
       "    x.observe(notebookContainer, {childList: true});\n",
       "}}\n",
       "\n",
       "// Listen for the clearing of the current output cell\n",
       "var outputEl = gd.closest('.output');\n",
       "if (outputEl) {{\n",
       "    x.observe(outputEl, {childList: true});\n",
       "}}\n",
       "\n",
       "                        })                };                });            </script>        </div>"
      ]
     },
     "metadata": {},
     "output_type": "display_data"
    }
   ],
   "source": [
    "fig = px.scatter(results, x=\"amount\", y=\"calculated result\")\n",
    "fig.show()"
   ]
  },
  {
   "cell_type": "markdown",
   "id": "c54d231c",
   "metadata": {},
   "source": [
    "# 3. In given Price test"
   ]
  },
  {
   "cell_type": "markdown",
   "id": "28d4f23f",
   "metadata": {},
   "source": [
    "## 3.1 Aux funcs"
   ]
  },
  {
   "cell_type": "code",
   "execution_count": 117,
   "id": "e1403b6f",
   "metadata": {},
   "outputs": [],
   "source": [
    "def f6(dy):\n",
    "    return 4*(dy**2)+(4*dy)\n",
    "\n",
    "def f5(dy):\n",
    "    return (8*float(c1)*(dy**2))+(8*float(c1)*dy)\n",
    "\n",
    "def f4(dy):\n",
    "    return (4*(float(c1)**2)*(dy**2))+(4*(float(c1)**2)*dy)\n",
    "\n",
    "def f3(dy):\n",
    "    return (-16*float(c2)*(dy**2)) - (16*float(c2)*dy) - 8*float(c2)\n",
    "\n",
    "def f2(dy):\n",
    "    return -4*float(c1)*float(c2)\n",
    "\n",
    "def f1(dy):\n",
    "    return 0\n",
    "\n",
    "def f0(dy):\n",
    "    return -4*(float(c2)**2)\n",
    "\n",
    "\n",
    "def calculate_x(price):\n",
    "    spot_price = -price\n",
    "    params = [f(spot_price) for f in [f6, f5, f4, f3, f2, f1, f0]]\n",
    "    return np.roots(params)\n",
    "\n",
    "def calcInGivenPrice(price):\n",
    "    roots = calculate_x(price)\n",
    "    initial_x = balances_start[index_x]\n",
    "    possible_results = []\n",
    "    for r in roots:\n",
    "        if r.imag == 0:\n",
    "            if r.real > initial_x:\n",
    "                possible_results.append(r.real)\n",
    "    return min(possible_results) - initial_x"
   ]
  },
  {
   "cell_type": "markdown",
   "id": "79d4b1dc",
   "metadata": {},
   "source": [
    "### 3.2 Unique test"
   ]
  },
  {
   "cell_type": "code",
   "execution_count": 122,
   "id": "7b991bbe",
   "metadata": {},
   "outputs": [
    {
     "data": {
      "text/plain": [
       "2898.352618085748"
      ]
     },
     "execution_count": 122,
     "metadata": {},
     "output_type": "execute_result"
    }
   ],
   "source": [
    "calcInGivenPrice(0.9)"
   ]
  },
  {
   "cell_type": "code",
   "execution_count": 123,
   "id": "f9c749c9",
   "metadata": {},
   "outputs": [
    {
     "data": {
      "text/plain": [
       "0.8999999999999709"
      ]
     },
     "execution_count": 123,
     "metadata": {},
     "output_type": "execute_result"
    }
   ],
   "source": [
    "calcSpotPriceGivenIn(decimal.Decimal('2898.352618085748'))"
   ]
  },
  {
   "cell_type": "markdown",
   "id": "6e60be7e",
   "metadata": {},
   "source": [
    "### 3.3 Test for different results"
   ]
  },
  {
   "cell_type": "code",
   "execution_count": 129,
   "id": "fa74d9a1",
   "metadata": {},
   "outputs": [
    {
     "name": "stdout",
     "output_type": "stream",
     "text": [
      "To price of 0.98 error is 2.6396118850781785e-12%\n",
      "To price of 0.95 error is 6.637965031443041e-12%\n",
      "To price of 0.9 error is 3.2319825827976777e-12%\n",
      "To price of 0.8 error is 6.544764730165298e-11%\n",
      "To price of 0.7 error is 6.693058805597373e-12%\n"
     ]
    }
   ],
   "source": [
    "prices= [0.98, 0.95, 0.9, 0.8, 0.7]\n",
    "for p in prices:\n",
    "    in_amount = calcInGivenPrice(p)\n",
    "    price = calcSpotPriceGivenIn(decimal.Decimal(str(in_amount)))\n",
    "    print(f'To price of {p} error is {abs(p-price)*100/p}%')"
   ]
  }
 ],
 "metadata": {
  "kernelspec": {
   "display_name": "Python 3 (ipykernel)",
   "language": "python",
   "name": "python3"
  },
  "language_info": {
   "codemirror_mode": {
    "name": "ipython",
    "version": 3
   },
   "file_extension": ".py",
   "mimetype": "text/x-python",
   "name": "python",
   "nbconvert_exporter": "python",
   "pygments_lexer": "ipython3",
   "version": "3.8.10"
  }
 },
 "nbformat": 4,
 "nbformat_minor": 5
}
