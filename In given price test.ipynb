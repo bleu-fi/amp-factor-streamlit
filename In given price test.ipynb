{
 "cells": [
  {
   "cell_type": "markdown",
   "id": "b4b2ca19",
   "metadata": {},
   "source": [
    "# In given price Test"
   ]
  },
  {
   "cell_type": "code",
   "execution_count": 9,
   "id": "ed9c7505",
   "metadata": {},
   "outputs": [],
   "source": [
    "import numpy as np\n",
    "from balancerv2cad.StableMath import StableMath"
   ]
  },
  {
   "cell_type": "markdown",
   "id": "c1544146",
   "metadata": {},
   "source": [
    "## 0. Set parameters of simulation\n",
    "### 0.1 Contant parameters"
   ]
  },
  {
   "cell_type": "code",
   "execution_count": 135,
   "id": "579dde2d",
   "metadata": {},
   "outputs": [],
   "source": [
    "# random values\n",
    "A = 5\n",
    "balances_start = [3000, 3000, 3000, 3000, 3000]\n",
    "n = len(balances_start)"
   ]
  },
  {
   "cell_type": "markdown",
   "id": "3f97e720",
   "metadata": {},
   "source": [
    "### 0.2 Calculate Invariant"
   ]
  },
  {
   "cell_type": "code",
   "execution_count": 136,
   "id": "097d0569",
   "metadata": {
    "scrolled": true
   },
   "outputs": [
    {
     "data": {
      "text/plain": [
       "Decimal('15000')"
      ]
     },
     "execution_count": 136,
     "metadata": {},
     "output_type": "execute_result"
    }
   ],
   "source": [
    "D = StableMath.calculateInvariant(A, balances_start)\n",
    "D"
   ]
  },
  {
   "cell_type": "markdown",
   "id": "c8ef310b",
   "metadata": {},
   "source": [
    "## 1. Test In given out function\n",
    "\n",
    "### 1.1 Define parameters"
   ]
  },
  {
   "cell_type": "code",
   "execution_count": 141,
   "id": "167ef499",
   "metadata": {},
   "outputs": [
    {
     "name": "stdout",
     "output_type": "stream",
     "text": [
      "S: 9000\n",
      "P: 27000000000\n"
     ]
    }
   ],
   "source": [
    "index_x = 0\n",
    "index_y = 1\n",
    "constant_balances = [balances_start[i] for i in range(len(balances_start)) if i not in [index_x, index_y]]\n",
    "S = np.sum(constant_balances)\n",
    "P = np.prod(constant_balances)\n",
    "print(\"S:\", S)\n",
    "print(\"P:\", P)"
   ]
  },
  {
   "cell_type": "markdown",
   "id": "f32019fb",
   "metadata": {},
   "source": [
    "### 1.2 Aux funcs"
   ]
  },
  {
   "cell_type": "code",
   "execution_count": 152,
   "id": "1cd86e02",
   "metadata": {},
   "outputs": [],
   "source": [
    "c1 =  (D/(A*(n**n))) + S - D\n",
    "c2 =  -(D**(n+1)) / (A*(n**(2*n))*P)\n",
    "\n",
    "def b_func(x):\n",
    "    return c1+x\n",
    "\n",
    "def c_func(x):\n",
    "    return c2/x\n",
    "\n",
    "def c_derivate_func(x):\n",
    "    return -c2/(x**2)\n",
    "\n",
    "def calculate_y(x):\n",
    "    b = float(b_func(x))\n",
    "    c = float(c_func(x))\n",
    "    delta = (b**2) - 4*c\n",
    "    num = -b + ((delta)**(1/2))\n",
    "    den = 2\n",
    "    return num/den\n",
    "\n",
    "def calcOutGivenIn(amount):\n",
    "    new_y = calculate_y(balances_start[index_x]+amount)\n",
    "    return balances_start[index_y] - new_y"
   ]
  },
  {
   "cell_type": "markdown",
   "id": "25b101c2",
   "metadata": {},
   "source": [
    "### 1.3 Singular test"
   ]
  },
  {
   "cell_type": "code",
   "execution_count": 161,
   "id": "d5585c36",
   "metadata": {},
   "outputs": [
    {
     "name": "stdout",
     "output_type": "stream",
     "text": [
      "Context OUTGIVENIN\n",
      "Invariant 15000\n",
      "FinalBalance Out 2900.552908046759877175131169\n",
      "99.447091953240122824868831\n",
      "END-CONTEXT OUTGIVENIN\n"
     ]
    }
   ],
   "source": [
    "amount = 100\n",
    "calculated = calcOutGivenIn(amount)\n",
    "answer = StableMath.calcOutGivenIn(A, balances_start, index_x, index_y, amount)"
   ]
  },
  {
   "cell_type": "code",
   "execution_count": 162,
   "id": "b5acfebe",
   "metadata": {},
   "outputs": [
    {
     "name": "stdout",
     "output_type": "stream",
     "text": [
      "Difference: 0.5518405473616497\n",
      "Difference over result of BalancerV2Cad: 0.5549086821172451%\n"
     ]
    }
   ],
   "source": [
    "dif = calculated-float(answer)\n",
    "dif_over_answer = dif*100/float(answer)\n",
    "print(\"Difference:\", dif)\n",
    "print(f\"Difference over result of BalancerV2Cad: {dif_over_answer}%\")"
   ]
  },
  {
   "cell_type": "markdown",
   "id": "31101583",
   "metadata": {},
   "source": [
    "### 1.4 Testing with different amount values"
   ]
  },
  {
   "cell_type": "code",
   "execution_count": 164,
   "id": "f28ea7e6",
   "metadata": {
    "scrolled": true
   },
   "outputs": [
    {
     "name": "stdout",
     "output_type": "stream",
     "text": [
      "Calculating...\n",
      "Context OUTGIVENIN\n",
      "Invariant 15000\n",
      "FinalBalance Out 2999.000055552473593240704119\n",
      "0.999944447526406759295881\n",
      "END-CONTEXT OUTGIVENIN\n",
      "Context OUTGIVENIN\n",
      "Invariant 15000\n",
      "FinalBalance Out 2999.000055552473593240704119\n",
      "0.999944447526406759295881\n",
      "END-CONTEXT OUTGIVENIN\n",
      "Context OUTGIVENIN\n",
      "Invariant 15000\n",
      "FinalBalance Out 2950.138530728993140625124319\n",
      "49.861469271006859374875681\n",
      "END-CONTEXT OUTGIVENIN\n",
      "Context OUTGIVENIN\n",
      "Invariant 15000\n",
      "FinalBalance Out 2950.138530728993140625124319\n",
      "49.861469271006859374875681\n",
      "END-CONTEXT OUTGIVENIN\n",
      "Context OUTGIVENIN\n",
      "Invariant 15000\n",
      "FinalBalance Out 2900.552908046759877175131169\n",
      "99.447091953240122824868831\n",
      "END-CONTEXT OUTGIVENIN\n",
      "Context OUTGIVENIN\n",
      "Invariant 15000\n",
      "FinalBalance Out 2900.552908046759877175131169\n",
      "99.447091953240122824868831\n",
      "END-CONTEXT OUTGIVENIN\n",
      "Context OUTGIVENIN\n",
      "Invariant 15000\n",
      "FinalBalance Out 2802.204453054920192068427095\n",
      "197.795546945079807931572905\n",
      "END-CONTEXT OUTGIVENIN\n",
      "Context OUTGIVENIN\n",
      "Invariant 15000\n",
      "FinalBalance Out 2802.204453054920192068427095\n",
      "197.795546945079807931572905\n",
      "END-CONTEXT OUTGIVENIN\n",
      "Context OUTGIVENIN\n",
      "Invariant 15000\n",
      "FinalBalance Out 2513.763774633861652796247902\n",
      "486.236225366138347203752098\n",
      "END-CONTEXT OUTGIVENIN\n",
      "Context OUTGIVENIN\n",
      "Invariant 15000\n",
      "FinalBalance Out 2513.763774633861652796247902\n",
      "486.236225366138347203752098\n",
      "END-CONTEXT OUTGIVENIN\n",
      "Context OUTGIVENIN\n",
      "Invariant 15000\n",
      "FinalBalance Out 2056.465996625053627812911266\n",
      "943.534003374946372187088734\n",
      "END-CONTEXT OUTGIVENIN\n",
      "Context OUTGIVENIN\n",
      "Invariant 15000\n",
      "FinalBalance Out 2056.465996625053627812911266\n",
      "943.534003374946372187088734\n",
      "END-CONTEXT OUTGIVENIN\n"
     ]
    }
   ],
   "source": [
    "print(\"Calculating...\")\n",
    "results = []\n",
    "amounts = [1, 50, 100, 200, 500, 1000]\n",
    "for amount in amounts:\n",
    "    calculated = calcOutGivenIn(amount)\n",
    "    answer = StableMath.calcOutGivenIn(A, balances_start, index_x, index_y, amount)\n",
    "    calculated = calcOutGivenIn(amount)\n",
    "    answer = StableMath.calcOutGivenIn(A, balances_start, index_x, index_y, amount)\n",
    "    dif = calculated-float(answer)\n",
    "    results.append(dif*100/float(answer))"
   ]
  },
  {
   "cell_type": "code",
   "execution_count": 176,
   "id": "06331c72",
   "metadata": {},
   "outputs": [
    {
     "name": "stdout",
     "output_type": "stream",
     "text": [
      "Out Given In simulation\n",
      "Difference of the our function result (coded equations) over the result of BalancerV2Cad package\n",
      "----------------------------------------------\n",
      "Input of 1 token, or 0.03% of the amount of tokens in the pool,  got error of 0.01%\n",
      "Input of 50 token, or 1.67% of the amount of tokens in the pool,  got error of 0.28%\n",
      "Input of 100 token, or 3.33% of the amount of tokens in the pool,  got error of 0.55%\n",
      "Input of 200 token, or 6.67% of the amount of tokens in the pool,  got error of 1.11%\n",
      "Input of 500 token, or 16.67% of the amount of tokens in the pool,  got error of 2.83%\n",
      "Input of 1000 token, or 33.33% of the amount of tokens in the pool,  got error of 5.97%\n"
     ]
    }
   ],
   "source": [
    "print(\"Out Given In simulation\")\n",
    "print(\"Difference of the our function result (coded equations) over the result of BalancerV2Cad package\")\n",
    "print(\"----------------------------------------------\")\n",
    "for r, amount in zip(results, amounts):\n",
    "    amount_over_balance = amount * 100 / balances_start[index_x]\n",
    "    print(f\"Input of {amount} token, or {amount_over_balance:.2f}% of the amount of tokens in the pool,  got error of {r:.2f}%\")"
   ]
  },
  {
   "cell_type": "code",
   "execution_count": null,
   "id": "a2013c72",
   "metadata": {},
   "outputs": [],
   "source": []
  }
 ],
 "metadata": {
  "kernelspec": {
   "display_name": "Python 3 (ipykernel)",
   "language": "python",
   "name": "python3"
  },
  "language_info": {
   "codemirror_mode": {
    "name": "ipython",
    "version": 3
   },
   "file_extension": ".py",
   "mimetype": "text/x-python",
   "name": "python",
   "nbconvert_exporter": "python",
   "pygments_lexer": "ipython3",
   "version": "3.8.10"
  }
 },
 "nbformat": 4,
 "nbformat_minor": 5
}
